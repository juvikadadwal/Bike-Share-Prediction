{
 "cells": [
  {
   "cell_type": "code",
   "execution_count": 1,
   "metadata": {},
   "outputs": [],
   "source": [
    "import pandas as pd\n",
    "import numpy as np\n",
    "import seaborn as sns\n",
    "import matplotlib.pyplot as plt\n",
    "%matplotlib inline"
   ]
  },
  {
   "cell_type": "code",
   "execution_count": 2,
   "metadata": {},
   "outputs": [],
   "source": [
    "import warnings\n",
    "warnings.filterwarnings(\"ignore\")"
   ]
  },
  {
   "cell_type": "code",
   "execution_count": 3,
   "metadata": {},
   "outputs": [],
   "source": [
    "df= pd.read_csv(\"hour.csv\")\n",
    "pd.set_option(\"display.max_rows\",None)\n",
    "pd.set_option(\"display.max_columns\",None)"
   ]
  },
  {
   "cell_type": "code",
   "execution_count": 4,
   "metadata": {},
   "outputs": [
    {
     "data": {
      "text/html": [
       "<div>\n",
       "<style scoped>\n",
       "    .dataframe tbody tr th:only-of-type {\n",
       "        vertical-align: middle;\n",
       "    }\n",
       "\n",
       "    .dataframe tbody tr th {\n",
       "        vertical-align: top;\n",
       "    }\n",
       "\n",
       "    .dataframe thead th {\n",
       "        text-align: right;\n",
       "    }\n",
       "</style>\n",
       "<table border=\"1\" class=\"dataframe\">\n",
       "  <thead>\n",
       "    <tr style=\"text-align: right;\">\n",
       "      <th></th>\n",
       "      <th>instant</th>\n",
       "      <th>dteday</th>\n",
       "      <th>season</th>\n",
       "      <th>yr</th>\n",
       "      <th>mnth</th>\n",
       "      <th>hr</th>\n",
       "      <th>holiday</th>\n",
       "      <th>weekday</th>\n",
       "      <th>workingday</th>\n",
       "      <th>weathersit</th>\n",
       "      <th>temp</th>\n",
       "      <th>atemp</th>\n",
       "      <th>hum</th>\n",
       "      <th>windspeed</th>\n",
       "      <th>casual</th>\n",
       "      <th>registered</th>\n",
       "      <th>cnt</th>\n",
       "    </tr>\n",
       "  </thead>\n",
       "  <tbody>\n",
       "    <tr>\n",
       "      <th>0</th>\n",
       "      <td>1</td>\n",
       "      <td>2011-01-01</td>\n",
       "      <td>1</td>\n",
       "      <td>0</td>\n",
       "      <td>1</td>\n",
       "      <td>0</td>\n",
       "      <td>0</td>\n",
       "      <td>6</td>\n",
       "      <td>0</td>\n",
       "      <td>1</td>\n",
       "      <td>0.24</td>\n",
       "      <td>0.2879</td>\n",
       "      <td>0.81</td>\n",
       "      <td>0.0</td>\n",
       "      <td>3</td>\n",
       "      <td>13</td>\n",
       "      <td>16</td>\n",
       "    </tr>\n",
       "    <tr>\n",
       "      <th>1</th>\n",
       "      <td>2</td>\n",
       "      <td>2011-01-01</td>\n",
       "      <td>1</td>\n",
       "      <td>0</td>\n",
       "      <td>1</td>\n",
       "      <td>1</td>\n",
       "      <td>0</td>\n",
       "      <td>6</td>\n",
       "      <td>0</td>\n",
       "      <td>1</td>\n",
       "      <td>0.22</td>\n",
       "      <td>0.2727</td>\n",
       "      <td>0.80</td>\n",
       "      <td>0.0</td>\n",
       "      <td>8</td>\n",
       "      <td>32</td>\n",
       "      <td>40</td>\n",
       "    </tr>\n",
       "    <tr>\n",
       "      <th>2</th>\n",
       "      <td>3</td>\n",
       "      <td>2011-01-01</td>\n",
       "      <td>1</td>\n",
       "      <td>0</td>\n",
       "      <td>1</td>\n",
       "      <td>2</td>\n",
       "      <td>0</td>\n",
       "      <td>6</td>\n",
       "      <td>0</td>\n",
       "      <td>1</td>\n",
       "      <td>0.22</td>\n",
       "      <td>0.2727</td>\n",
       "      <td>0.80</td>\n",
       "      <td>0.0</td>\n",
       "      <td>5</td>\n",
       "      <td>27</td>\n",
       "      <td>32</td>\n",
       "    </tr>\n",
       "    <tr>\n",
       "      <th>3</th>\n",
       "      <td>4</td>\n",
       "      <td>2011-01-01</td>\n",
       "      <td>1</td>\n",
       "      <td>0</td>\n",
       "      <td>1</td>\n",
       "      <td>3</td>\n",
       "      <td>0</td>\n",
       "      <td>6</td>\n",
       "      <td>0</td>\n",
       "      <td>1</td>\n",
       "      <td>0.24</td>\n",
       "      <td>0.2879</td>\n",
       "      <td>0.75</td>\n",
       "      <td>0.0</td>\n",
       "      <td>3</td>\n",
       "      <td>10</td>\n",
       "      <td>13</td>\n",
       "    </tr>\n",
       "    <tr>\n",
       "      <th>4</th>\n",
       "      <td>5</td>\n",
       "      <td>2011-01-01</td>\n",
       "      <td>1</td>\n",
       "      <td>0</td>\n",
       "      <td>1</td>\n",
       "      <td>4</td>\n",
       "      <td>0</td>\n",
       "      <td>6</td>\n",
       "      <td>0</td>\n",
       "      <td>1</td>\n",
       "      <td>0.24</td>\n",
       "      <td>0.2879</td>\n",
       "      <td>0.75</td>\n",
       "      <td>0.0</td>\n",
       "      <td>0</td>\n",
       "      <td>1</td>\n",
       "      <td>1</td>\n",
       "    </tr>\n",
       "  </tbody>\n",
       "</table>\n",
       "</div>"
      ],
      "text/plain": [
       "   instant      dteday  season  yr  mnth  hr  holiday  weekday  workingday  \\\n",
       "0        1  2011-01-01       1   0     1   0        0        6           0   \n",
       "1        2  2011-01-01       1   0     1   1        0        6           0   \n",
       "2        3  2011-01-01       1   0     1   2        0        6           0   \n",
       "3        4  2011-01-01       1   0     1   3        0        6           0   \n",
       "4        5  2011-01-01       1   0     1   4        0        6           0   \n",
       "\n",
       "   weathersit  temp   atemp   hum  windspeed  casual  registered  cnt  \n",
       "0           1  0.24  0.2879  0.81        0.0       3          13   16  \n",
       "1           1  0.22  0.2727  0.80        0.0       8          32   40  \n",
       "2           1  0.22  0.2727  0.80        0.0       5          27   32  \n",
       "3           1  0.24  0.2879  0.75        0.0       3          10   13  \n",
       "4           1  0.24  0.2879  0.75        0.0       0           1    1  "
      ]
     },
     "execution_count": 4,
     "metadata": {},
     "output_type": "execute_result"
    }
   ],
   "source": [
    "df.head()"
   ]
  },
  {
   "cell_type": "code",
   "execution_count": 5,
   "metadata": {},
   "outputs": [],
   "source": [
    "#Renaming the columns\n",
    "df1=df.rename(columns={\"dteday\": \"date\",\"yr\":\"year\",\"mnth\":\"month\",\"hr\":\"hour\",\"weathersit\":\"weather\",\"hum\":\"humidity\",\"cnt\":\"count\"})"
   ]
  },
  {
   "cell_type": "code",
   "execution_count": 6,
   "metadata": {},
   "outputs": [
    {
     "data": {
      "text/html": [
       "<div>\n",
       "<style scoped>\n",
       "    .dataframe tbody tr th:only-of-type {\n",
       "        vertical-align: middle;\n",
       "    }\n",
       "\n",
       "    .dataframe tbody tr th {\n",
       "        vertical-align: top;\n",
       "    }\n",
       "\n",
       "    .dataframe thead th {\n",
       "        text-align: right;\n",
       "    }\n",
       "</style>\n",
       "<table border=\"1\" class=\"dataframe\">\n",
       "  <thead>\n",
       "    <tr style=\"text-align: right;\">\n",
       "      <th></th>\n",
       "      <th>instant</th>\n",
       "      <th>date</th>\n",
       "      <th>season</th>\n",
       "      <th>year</th>\n",
       "      <th>month</th>\n",
       "      <th>hour</th>\n",
       "      <th>holiday</th>\n",
       "      <th>weekday</th>\n",
       "      <th>workingday</th>\n",
       "      <th>weather</th>\n",
       "      <th>temp</th>\n",
       "      <th>atemp</th>\n",
       "      <th>humidity</th>\n",
       "      <th>windspeed</th>\n",
       "      <th>casual</th>\n",
       "      <th>registered</th>\n",
       "      <th>count</th>\n",
       "    </tr>\n",
       "  </thead>\n",
       "  <tbody>\n",
       "    <tr>\n",
       "      <th>0</th>\n",
       "      <td>1</td>\n",
       "      <td>2011-01-01</td>\n",
       "      <td>1</td>\n",
       "      <td>0</td>\n",
       "      <td>1</td>\n",
       "      <td>0</td>\n",
       "      <td>0</td>\n",
       "      <td>6</td>\n",
       "      <td>0</td>\n",
       "      <td>1</td>\n",
       "      <td>0.24</td>\n",
       "      <td>0.2879</td>\n",
       "      <td>0.81</td>\n",
       "      <td>0.0</td>\n",
       "      <td>3</td>\n",
       "      <td>13</td>\n",
       "      <td>16</td>\n",
       "    </tr>\n",
       "    <tr>\n",
       "      <th>1</th>\n",
       "      <td>2</td>\n",
       "      <td>2011-01-01</td>\n",
       "      <td>1</td>\n",
       "      <td>0</td>\n",
       "      <td>1</td>\n",
       "      <td>1</td>\n",
       "      <td>0</td>\n",
       "      <td>6</td>\n",
       "      <td>0</td>\n",
       "      <td>1</td>\n",
       "      <td>0.22</td>\n",
       "      <td>0.2727</td>\n",
       "      <td>0.80</td>\n",
       "      <td>0.0</td>\n",
       "      <td>8</td>\n",
       "      <td>32</td>\n",
       "      <td>40</td>\n",
       "    </tr>\n",
       "    <tr>\n",
       "      <th>2</th>\n",
       "      <td>3</td>\n",
       "      <td>2011-01-01</td>\n",
       "      <td>1</td>\n",
       "      <td>0</td>\n",
       "      <td>1</td>\n",
       "      <td>2</td>\n",
       "      <td>0</td>\n",
       "      <td>6</td>\n",
       "      <td>0</td>\n",
       "      <td>1</td>\n",
       "      <td>0.22</td>\n",
       "      <td>0.2727</td>\n",
       "      <td>0.80</td>\n",
       "      <td>0.0</td>\n",
       "      <td>5</td>\n",
       "      <td>27</td>\n",
       "      <td>32</td>\n",
       "    </tr>\n",
       "    <tr>\n",
       "      <th>3</th>\n",
       "      <td>4</td>\n",
       "      <td>2011-01-01</td>\n",
       "      <td>1</td>\n",
       "      <td>0</td>\n",
       "      <td>1</td>\n",
       "      <td>3</td>\n",
       "      <td>0</td>\n",
       "      <td>6</td>\n",
       "      <td>0</td>\n",
       "      <td>1</td>\n",
       "      <td>0.24</td>\n",
       "      <td>0.2879</td>\n",
       "      <td>0.75</td>\n",
       "      <td>0.0</td>\n",
       "      <td>3</td>\n",
       "      <td>10</td>\n",
       "      <td>13</td>\n",
       "    </tr>\n",
       "    <tr>\n",
       "      <th>4</th>\n",
       "      <td>5</td>\n",
       "      <td>2011-01-01</td>\n",
       "      <td>1</td>\n",
       "      <td>0</td>\n",
       "      <td>1</td>\n",
       "      <td>4</td>\n",
       "      <td>0</td>\n",
       "      <td>6</td>\n",
       "      <td>0</td>\n",
       "      <td>1</td>\n",
       "      <td>0.24</td>\n",
       "      <td>0.2879</td>\n",
       "      <td>0.75</td>\n",
       "      <td>0.0</td>\n",
       "      <td>0</td>\n",
       "      <td>1</td>\n",
       "      <td>1</td>\n",
       "    </tr>\n",
       "  </tbody>\n",
       "</table>\n",
       "</div>"
      ],
      "text/plain": [
       "   instant        date  season  year  month  hour  holiday  weekday  \\\n",
       "0        1  2011-01-01       1     0      1     0        0        6   \n",
       "1        2  2011-01-01       1     0      1     1        0        6   \n",
       "2        3  2011-01-01       1     0      1     2        0        6   \n",
       "3        4  2011-01-01       1     0      1     3        0        6   \n",
       "4        5  2011-01-01       1     0      1     4        0        6   \n",
       "\n",
       "   workingday  weather  temp   atemp  humidity  windspeed  casual  registered  \\\n",
       "0           0        1  0.24  0.2879      0.81        0.0       3          13   \n",
       "1           0        1  0.22  0.2727      0.80        0.0       8          32   \n",
       "2           0        1  0.22  0.2727      0.80        0.0       5          27   \n",
       "3           0        1  0.24  0.2879      0.75        0.0       3          10   \n",
       "4           0        1  0.24  0.2879      0.75        0.0       0           1   \n",
       "\n",
       "   count  \n",
       "0     16  \n",
       "1     40  \n",
       "2     32  \n",
       "3     13  \n",
       "4      1  "
      ]
     },
     "execution_count": 6,
     "metadata": {},
     "output_type": "execute_result"
    }
   ],
   "source": [
    "df1.head()"
   ]
  },
  {
   "cell_type": "code",
   "execution_count": 7,
   "metadata": {},
   "outputs": [],
   "source": [
    "#Changing the datatype of \"date\" column for extracting \"day\" column from it.\n",
    "df1['date']=pd.to_datetime(df1['date'])"
   ]
  },
  {
   "cell_type": "code",
   "execution_count": 8,
   "metadata": {},
   "outputs": [],
   "source": [
    "df1.insert(5,\"day\",df1[\"date\"].dt.day)"
   ]
  },
  {
   "cell_type": "code",
   "execution_count": 9,
   "metadata": {},
   "outputs": [],
   "source": [
    "#converting \"date\" column into index\n",
    "df1.set_index('date',inplace=True)"
   ]
  },
  {
   "cell_type": "code",
   "execution_count": 10,
   "metadata": {},
   "outputs": [],
   "source": [
    "#dropping \"instant\" column because it is just a type of index\n",
    "df1.drop(\"instant\",axis=1,inplace=True)"
   ]
  },
  {
   "cell_type": "code",
   "execution_count": 11,
   "metadata": {},
   "outputs": [
    {
     "data": {
      "text/html": [
       "<div>\n",
       "<style scoped>\n",
       "    .dataframe tbody tr th:only-of-type {\n",
       "        vertical-align: middle;\n",
       "    }\n",
       "\n",
       "    .dataframe tbody tr th {\n",
       "        vertical-align: top;\n",
       "    }\n",
       "\n",
       "    .dataframe thead th {\n",
       "        text-align: right;\n",
       "    }\n",
       "</style>\n",
       "<table border=\"1\" class=\"dataframe\">\n",
       "  <thead>\n",
       "    <tr style=\"text-align: right;\">\n",
       "      <th></th>\n",
       "      <th>season</th>\n",
       "      <th>year</th>\n",
       "      <th>month</th>\n",
       "      <th>day</th>\n",
       "      <th>hour</th>\n",
       "      <th>holiday</th>\n",
       "      <th>weekday</th>\n",
       "      <th>workingday</th>\n",
       "      <th>weather</th>\n",
       "      <th>temp</th>\n",
       "      <th>atemp</th>\n",
       "      <th>humidity</th>\n",
       "      <th>windspeed</th>\n",
       "      <th>casual</th>\n",
       "      <th>registered</th>\n",
       "      <th>count</th>\n",
       "    </tr>\n",
       "    <tr>\n",
       "      <th>date</th>\n",
       "      <th></th>\n",
       "      <th></th>\n",
       "      <th></th>\n",
       "      <th></th>\n",
       "      <th></th>\n",
       "      <th></th>\n",
       "      <th></th>\n",
       "      <th></th>\n",
       "      <th></th>\n",
       "      <th></th>\n",
       "      <th></th>\n",
       "      <th></th>\n",
       "      <th></th>\n",
       "      <th></th>\n",
       "      <th></th>\n",
       "      <th></th>\n",
       "    </tr>\n",
       "  </thead>\n",
       "  <tbody>\n",
       "    <tr>\n",
       "      <th>2011-01-01</th>\n",
       "      <td>1</td>\n",
       "      <td>0</td>\n",
       "      <td>1</td>\n",
       "      <td>1</td>\n",
       "      <td>0</td>\n",
       "      <td>0</td>\n",
       "      <td>6</td>\n",
       "      <td>0</td>\n",
       "      <td>1</td>\n",
       "      <td>0.24</td>\n",
       "      <td>0.2879</td>\n",
       "      <td>0.81</td>\n",
       "      <td>0.0</td>\n",
       "      <td>3</td>\n",
       "      <td>13</td>\n",
       "      <td>16</td>\n",
       "    </tr>\n",
       "    <tr>\n",
       "      <th>2011-01-01</th>\n",
       "      <td>1</td>\n",
       "      <td>0</td>\n",
       "      <td>1</td>\n",
       "      <td>1</td>\n",
       "      <td>1</td>\n",
       "      <td>0</td>\n",
       "      <td>6</td>\n",
       "      <td>0</td>\n",
       "      <td>1</td>\n",
       "      <td>0.22</td>\n",
       "      <td>0.2727</td>\n",
       "      <td>0.80</td>\n",
       "      <td>0.0</td>\n",
       "      <td>8</td>\n",
       "      <td>32</td>\n",
       "      <td>40</td>\n",
       "    </tr>\n",
       "    <tr>\n",
       "      <th>2011-01-01</th>\n",
       "      <td>1</td>\n",
       "      <td>0</td>\n",
       "      <td>1</td>\n",
       "      <td>1</td>\n",
       "      <td>2</td>\n",
       "      <td>0</td>\n",
       "      <td>6</td>\n",
       "      <td>0</td>\n",
       "      <td>1</td>\n",
       "      <td>0.22</td>\n",
       "      <td>0.2727</td>\n",
       "      <td>0.80</td>\n",
       "      <td>0.0</td>\n",
       "      <td>5</td>\n",
       "      <td>27</td>\n",
       "      <td>32</td>\n",
       "    </tr>\n",
       "    <tr>\n",
       "      <th>2011-01-01</th>\n",
       "      <td>1</td>\n",
       "      <td>0</td>\n",
       "      <td>1</td>\n",
       "      <td>1</td>\n",
       "      <td>3</td>\n",
       "      <td>0</td>\n",
       "      <td>6</td>\n",
       "      <td>0</td>\n",
       "      <td>1</td>\n",
       "      <td>0.24</td>\n",
       "      <td>0.2879</td>\n",
       "      <td>0.75</td>\n",
       "      <td>0.0</td>\n",
       "      <td>3</td>\n",
       "      <td>10</td>\n",
       "      <td>13</td>\n",
       "    </tr>\n",
       "    <tr>\n",
       "      <th>2011-01-01</th>\n",
       "      <td>1</td>\n",
       "      <td>0</td>\n",
       "      <td>1</td>\n",
       "      <td>1</td>\n",
       "      <td>4</td>\n",
       "      <td>0</td>\n",
       "      <td>6</td>\n",
       "      <td>0</td>\n",
       "      <td>1</td>\n",
       "      <td>0.24</td>\n",
       "      <td>0.2879</td>\n",
       "      <td>0.75</td>\n",
       "      <td>0.0</td>\n",
       "      <td>0</td>\n",
       "      <td>1</td>\n",
       "      <td>1</td>\n",
       "    </tr>\n",
       "  </tbody>\n",
       "</table>\n",
       "</div>"
      ],
      "text/plain": [
       "            season  year  month  day  hour  holiday  weekday  workingday  \\\n",
       "date                                                                       \n",
       "2011-01-01       1     0      1    1     0        0        6           0   \n",
       "2011-01-01       1     0      1    1     1        0        6           0   \n",
       "2011-01-01       1     0      1    1     2        0        6           0   \n",
       "2011-01-01       1     0      1    1     3        0        6           0   \n",
       "2011-01-01       1     0      1    1     4        0        6           0   \n",
       "\n",
       "            weather  temp   atemp  humidity  windspeed  casual  registered  \\\n",
       "date                                                                         \n",
       "2011-01-01        1  0.24  0.2879      0.81        0.0       3          13   \n",
       "2011-01-01        1  0.22  0.2727      0.80        0.0       8          32   \n",
       "2011-01-01        1  0.22  0.2727      0.80        0.0       5          27   \n",
       "2011-01-01        1  0.24  0.2879      0.75        0.0       3          10   \n",
       "2011-01-01        1  0.24  0.2879      0.75        0.0       0           1   \n",
       "\n",
       "            count  \n",
       "date               \n",
       "2011-01-01     16  \n",
       "2011-01-01     40  \n",
       "2011-01-01     32  \n",
       "2011-01-01     13  \n",
       "2011-01-01      1  "
      ]
     },
     "execution_count": 11,
     "metadata": {},
     "output_type": "execute_result"
    }
   ],
   "source": [
    "df1.head()"
   ]
  },
  {
   "cell_type": "code",
   "execution_count": 12,
   "metadata": {},
   "outputs": [
    {
     "data": {
      "text/plain": [
       "False"
      ]
     },
     "execution_count": 12,
     "metadata": {},
     "output_type": "execute_result"
    }
   ],
   "source": [
    "#Checking missing values\n",
    "df1.isnull().any().any()"
   ]
  },
  {
   "cell_type": "code",
   "execution_count": 13,
   "metadata": {},
   "outputs": [],
   "source": [
    "#Mapping of \"season\" ,\"weather\",\"weekday\" variables"
   ]
  },
  {
   "cell_type": "code",
   "execution_count": 14,
   "metadata": {},
   "outputs": [],
   "source": [
    "df1[\"season\"]= df1[\"season\"].map({1:\"spring\",2:\"summer\",3:\"fall\",4:\"winter\"})\n",
    "df1[\"weather\"]= df1[\"weather\"].map({1:\"clear\",2:\"mist/cloudy\",3:\"light/heavy rain/snow\"})\n",
    "df1[\"weekday\"]=df1.index.day_name()"
   ]
  },
  {
   "cell_type": "code",
   "execution_count": 15,
   "metadata": {},
   "outputs": [
    {
     "data": {
      "text/html": [
       "<div>\n",
       "<style scoped>\n",
       "    .dataframe tbody tr th:only-of-type {\n",
       "        vertical-align: middle;\n",
       "    }\n",
       "\n",
       "    .dataframe tbody tr th {\n",
       "        vertical-align: top;\n",
       "    }\n",
       "\n",
       "    .dataframe thead th {\n",
       "        text-align: right;\n",
       "    }\n",
       "</style>\n",
       "<table border=\"1\" class=\"dataframe\">\n",
       "  <thead>\n",
       "    <tr style=\"text-align: right;\">\n",
       "      <th></th>\n",
       "      <th>season</th>\n",
       "      <th>year</th>\n",
       "      <th>month</th>\n",
       "      <th>day</th>\n",
       "      <th>hour</th>\n",
       "      <th>holiday</th>\n",
       "      <th>weekday</th>\n",
       "      <th>workingday</th>\n",
       "      <th>weather</th>\n",
       "      <th>temp</th>\n",
       "      <th>atemp</th>\n",
       "      <th>humidity</th>\n",
       "      <th>windspeed</th>\n",
       "      <th>casual</th>\n",
       "      <th>registered</th>\n",
       "      <th>count</th>\n",
       "    </tr>\n",
       "    <tr>\n",
       "      <th>date</th>\n",
       "      <th></th>\n",
       "      <th></th>\n",
       "      <th></th>\n",
       "      <th></th>\n",
       "      <th></th>\n",
       "      <th></th>\n",
       "      <th></th>\n",
       "      <th></th>\n",
       "      <th></th>\n",
       "      <th></th>\n",
       "      <th></th>\n",
       "      <th></th>\n",
       "      <th></th>\n",
       "      <th></th>\n",
       "      <th></th>\n",
       "      <th></th>\n",
       "    </tr>\n",
       "  </thead>\n",
       "  <tbody>\n",
       "    <tr>\n",
       "      <th>2011-01-01</th>\n",
       "      <td>spring</td>\n",
       "      <td>0</td>\n",
       "      <td>1</td>\n",
       "      <td>1</td>\n",
       "      <td>0</td>\n",
       "      <td>0</td>\n",
       "      <td>Saturday</td>\n",
       "      <td>0</td>\n",
       "      <td>clear</td>\n",
       "      <td>0.24</td>\n",
       "      <td>0.2879</td>\n",
       "      <td>0.81</td>\n",
       "      <td>0.0</td>\n",
       "      <td>3</td>\n",
       "      <td>13</td>\n",
       "      <td>16</td>\n",
       "    </tr>\n",
       "    <tr>\n",
       "      <th>2011-01-01</th>\n",
       "      <td>spring</td>\n",
       "      <td>0</td>\n",
       "      <td>1</td>\n",
       "      <td>1</td>\n",
       "      <td>1</td>\n",
       "      <td>0</td>\n",
       "      <td>Saturday</td>\n",
       "      <td>0</td>\n",
       "      <td>clear</td>\n",
       "      <td>0.22</td>\n",
       "      <td>0.2727</td>\n",
       "      <td>0.80</td>\n",
       "      <td>0.0</td>\n",
       "      <td>8</td>\n",
       "      <td>32</td>\n",
       "      <td>40</td>\n",
       "    </tr>\n",
       "    <tr>\n",
       "      <th>2011-01-01</th>\n",
       "      <td>spring</td>\n",
       "      <td>0</td>\n",
       "      <td>1</td>\n",
       "      <td>1</td>\n",
       "      <td>2</td>\n",
       "      <td>0</td>\n",
       "      <td>Saturday</td>\n",
       "      <td>0</td>\n",
       "      <td>clear</td>\n",
       "      <td>0.22</td>\n",
       "      <td>0.2727</td>\n",
       "      <td>0.80</td>\n",
       "      <td>0.0</td>\n",
       "      <td>5</td>\n",
       "      <td>27</td>\n",
       "      <td>32</td>\n",
       "    </tr>\n",
       "    <tr>\n",
       "      <th>2011-01-01</th>\n",
       "      <td>spring</td>\n",
       "      <td>0</td>\n",
       "      <td>1</td>\n",
       "      <td>1</td>\n",
       "      <td>3</td>\n",
       "      <td>0</td>\n",
       "      <td>Saturday</td>\n",
       "      <td>0</td>\n",
       "      <td>clear</td>\n",
       "      <td>0.24</td>\n",
       "      <td>0.2879</td>\n",
       "      <td>0.75</td>\n",
       "      <td>0.0</td>\n",
       "      <td>3</td>\n",
       "      <td>10</td>\n",
       "      <td>13</td>\n",
       "    </tr>\n",
       "    <tr>\n",
       "      <th>2011-01-01</th>\n",
       "      <td>spring</td>\n",
       "      <td>0</td>\n",
       "      <td>1</td>\n",
       "      <td>1</td>\n",
       "      <td>4</td>\n",
       "      <td>0</td>\n",
       "      <td>Saturday</td>\n",
       "      <td>0</td>\n",
       "      <td>clear</td>\n",
       "      <td>0.24</td>\n",
       "      <td>0.2879</td>\n",
       "      <td>0.75</td>\n",
       "      <td>0.0</td>\n",
       "      <td>0</td>\n",
       "      <td>1</td>\n",
       "      <td>1</td>\n",
       "    </tr>\n",
       "  </tbody>\n",
       "</table>\n",
       "</div>"
      ],
      "text/plain": [
       "            season  year  month  day  hour  holiday   weekday  workingday  \\\n",
       "date                                                                        \n",
       "2011-01-01  spring     0      1    1     0        0  Saturday           0   \n",
       "2011-01-01  spring     0      1    1     1        0  Saturday           0   \n",
       "2011-01-01  spring     0      1    1     2        0  Saturday           0   \n",
       "2011-01-01  spring     0      1    1     3        0  Saturday           0   \n",
       "2011-01-01  spring     0      1    1     4        0  Saturday           0   \n",
       "\n",
       "           weather  temp   atemp  humidity  windspeed  casual  registered  \\\n",
       "date                                                                        \n",
       "2011-01-01   clear  0.24  0.2879      0.81        0.0       3          13   \n",
       "2011-01-01   clear  0.22  0.2727      0.80        0.0       8          32   \n",
       "2011-01-01   clear  0.22  0.2727      0.80        0.0       5          27   \n",
       "2011-01-01   clear  0.24  0.2879      0.75        0.0       3          10   \n",
       "2011-01-01   clear  0.24  0.2879      0.75        0.0       0           1   \n",
       "\n",
       "            count  \n",
       "date               \n",
       "2011-01-01     16  \n",
       "2011-01-01     40  \n",
       "2011-01-01     32  \n",
       "2011-01-01     13  \n",
       "2011-01-01      1  "
      ]
     },
     "execution_count": 15,
     "metadata": {},
     "output_type": "execute_result"
    }
   ],
   "source": [
    "df1.head()"
   ]
  },
  {
   "cell_type": "code",
   "execution_count": 16,
   "metadata": {},
   "outputs": [
    {
     "data": {
      "image/png": "[encoded data removed]",
      "text/plain": [
       "<Figure size 1296x360 with 1 Axes>"
      ]
     },
     "metadata": {
      "needs_background": "light"
     },
     "output_type": "display_data"
    }
   ],
   "source": [
    "#Checking trend of bike demand over hours.\n",
    "fig, ax = plt.subplots(figsize=(18, 5))\n",
    "sns.boxplot(x=df1['hour'], y=df1['count'], ax=ax)\n",
    "ax.set_ylabel('Count');"
   ]
  },
  {
   "cell_type": "markdown",
   "metadata": {},
   "source": [
    "Observation:   \n",
    "• 6 is the hour when the demand for bike starts rising.  \n",
    "• High : 7-8 and 17-19 hours  \n",
    "• Average : 9-16 hours  \n",
    "• Low : 0-5 and 20-23 hours  "
   ]
  },
  {
   "cell_type": "code",
   "execution_count": 17,
   "metadata": {},
   "outputs": [
    {
     "data": {
      "image/png": "[encoded data removed]",
      "text/plain": [
       "<Figure size 1296x360 with 1 Axes>"
      ]
     },
     "metadata": {
      "needs_background": "light"
     },
     "output_type": "display_data"
    }
   ],
   "source": [
    "#Checking trend of bike demand of casual user on the basis of \"hour\".\n",
    "fig, ax = plt.subplots(figsize=(18, 5))\n",
    "sns.boxplot(x=df1['hour'], y=df1['casual'], ax=ax)\n",
    "ax.set_ylabel('casual users');"
   ]
  },
  {
   "cell_type": "markdown",
   "metadata": {},
   "source": [
    "•Mostly Bikes are rented by Casual users are in Day time hours."
   ]
  },
  {
   "cell_type": "code",
   "execution_count": 18,
   "metadata": {},
   "outputs": [
    {
     "data": {
      "image/png": "[encoded data removed]",
      "text/plain": [
       "<Figure size 1296x360 with 1 Axes>"
      ]
     },
     "metadata": {
      "needs_background": "light"
     },
     "output_type": "display_data"
    }
   ],
   "source": [
    "#Checking trend of bike demand of casual user on the basis of \"weekday\".\n",
    "fig, ax = plt.subplots(figsize=(18, 5))\n",
    "sns.boxplot(x=df1['weekday'], y=df1['casual'], ax=ax)\n",
    "ax.set_ylabel('Casual users');"
   ]
  },
  {
   "cell_type": "markdown",
   "metadata": {},
   "source": [
    "•Casual users are renting bikes mostly on weekends."
   ]
  },
  {
   "cell_type": "code",
   "execution_count": 19,
   "metadata": {},
   "outputs": [
    {
     "data": {
      "image/png": "[encoded data removed]",
      "text/plain": [
       "<Figure size 1296x360 with 1 Axes>"
      ]
     },
     "metadata": {
      "needs_background": "light"
     },
     "output_type": "display_data"
    }
   ],
   "source": [
    "#Checking trend of bike demand over hours of registered users.\n",
    "fig, ax = plt.subplots(figsize=(18, 5))\n",
    "sns.boxplot(x=df1['hour'], y=df1['registered'], ax=ax)\n",
    "ax.set_ylabel('registered users');"
   ]
  },
  {
   "cell_type": "markdown",
   "metadata": {},
   "source": [
    "•The most active hours of registered users for renting the bikes are 7-8 in morning and 17-18 in the evening."
   ]
  },
  {
   "cell_type": "code",
   "execution_count": 20,
   "metadata": {},
   "outputs": [
    {
     "data": {
      "image/png": "[encoded data removed]",
      "text/plain": [
       "<Figure size 1296x360 with 1 Axes>"
      ]
     },
     "metadata": {
      "needs_background": "light"
     },
     "output_type": "display_data"
    }
   ],
   "source": [
    "#Checking trend of bike demand of registered user on the basis of \"weekday\".\n",
    "fig, ax = plt.subplots(figsize=(18, 5))\n",
    "sns.boxplot(x=df1['weekday'], y=df1['registered'], ax=ax)\n",
    "ax.set_ylabel('registered users');"
   ]
  },
  {
   "cell_type": "markdown",
   "metadata": {},
   "source": [
    "•Registered users are renting bikes on everyday but slightly more on weekdays."
   ]
  },
  {
   "cell_type": "code",
   "execution_count": 21,
   "metadata": {},
   "outputs": [
    {
     "data": {
      "image/png": "[encoded data removed]",
      "text/plain": [
       "<Figure size 1440x720 with 1 Axes>"
      ]
     },
     "metadata": {
      "needs_background": "light"
     },
     "output_type": "display_data"
    }
   ],
   "source": [
    "#Checking trend of bike demand over hours on the basis of \"weekdays\"\n",
    "fig, ax = plt.subplots(figsize=(20,10))\n",
    "sns.pointplot(data=df1[['hour','count','weekday']],\n",
    "            x='hour', y='count',\n",
    "            hue='weekday', ax=ax)\n",
    "ax.set(title=\"Bike usage during weekdays and weekends\");"
   ]
  },
  {
   "cell_type": "markdown",
   "metadata": {},
   "source": [
    "•Demand for bikes is high in Morning and Evening hours on weekdays.(Mostly by registered users)  \n",
    "•Demand for bikes is high in Day Time hours on weekends.(Mostly by casual users)  "
   ]
  },
  {
   "cell_type": "code",
   "execution_count": 22,
   "metadata": {},
   "outputs": [
    {
     "data": {
      "text/html": [
       "<div>\n",
       "<style scoped>\n",
       "    .dataframe tbody tr th:only-of-type {\n",
       "        vertical-align: middle;\n",
       "    }\n",
       "\n",
       "    .dataframe tbody tr th {\n",
       "        vertical-align: top;\n",
       "    }\n",
       "\n",
       "    .dataframe thead th {\n",
       "        text-align: right;\n",
       "    }\n",
       "</style>\n",
       "<table border=\"1\" class=\"dataframe\">\n",
       "  <thead>\n",
       "    <tr style=\"text-align: right;\">\n",
       "      <th></th>\n",
       "      <th>season</th>\n",
       "      <th>year</th>\n",
       "      <th>month</th>\n",
       "      <th>day</th>\n",
       "      <th>hour</th>\n",
       "      <th>holiday</th>\n",
       "      <th>weekday</th>\n",
       "      <th>workingday</th>\n",
       "      <th>weather</th>\n",
       "      <th>temp</th>\n",
       "      <th>atemp</th>\n",
       "      <th>humidity</th>\n",
       "      <th>windspeed</th>\n",
       "      <th>casual</th>\n",
       "      <th>registered</th>\n",
       "      <th>count</th>\n",
       "    </tr>\n",
       "    <tr>\n",
       "      <th>date</th>\n",
       "      <th></th>\n",
       "      <th></th>\n",
       "      <th></th>\n",
       "      <th></th>\n",
       "      <th></th>\n",
       "      <th></th>\n",
       "      <th></th>\n",
       "      <th></th>\n",
       "      <th></th>\n",
       "      <th></th>\n",
       "      <th></th>\n",
       "      <th></th>\n",
       "      <th></th>\n",
       "      <th></th>\n",
       "      <th></th>\n",
       "      <th></th>\n",
       "    </tr>\n",
       "  </thead>\n",
       "  <tbody>\n",
       "    <tr>\n",
       "      <th>2011-01-01</th>\n",
       "      <td>spring</td>\n",
       "      <td>0</td>\n",
       "      <td>1</td>\n",
       "      <td>1</td>\n",
       "      <td>0</td>\n",
       "      <td>0</td>\n",
       "      <td>Saturday</td>\n",
       "      <td>0</td>\n",
       "      <td>clear</td>\n",
       "      <td>0.24</td>\n",
       "      <td>0.2879</td>\n",
       "      <td>0.81</td>\n",
       "      <td>0.0</td>\n",
       "      <td>3</td>\n",
       "      <td>13</td>\n",
       "      <td>16</td>\n",
       "    </tr>\n",
       "    <tr>\n",
       "      <th>2011-01-01</th>\n",
       "      <td>spring</td>\n",
       "      <td>0</td>\n",
       "      <td>1</td>\n",
       "      <td>1</td>\n",
       "      <td>1</td>\n",
       "      <td>0</td>\n",
       "      <td>Saturday</td>\n",
       "      <td>0</td>\n",
       "      <td>clear</td>\n",
       "      <td>0.22</td>\n",
       "      <td>0.2727</td>\n",
       "      <td>0.80</td>\n",
       "      <td>0.0</td>\n",
       "      <td>8</td>\n",
       "      <td>32</td>\n",
       "      <td>40</td>\n",
       "    </tr>\n",
       "    <tr>\n",
       "      <th>2011-01-01</th>\n",
       "      <td>spring</td>\n",
       "      <td>0</td>\n",
       "      <td>1</td>\n",
       "      <td>1</td>\n",
       "      <td>2</td>\n",
       "      <td>0</td>\n",
       "      <td>Saturday</td>\n",
       "      <td>0</td>\n",
       "      <td>clear</td>\n",
       "      <td>0.22</td>\n",
       "      <td>0.2727</td>\n",
       "      <td>0.80</td>\n",
       "      <td>0.0</td>\n",
       "      <td>5</td>\n",
       "      <td>27</td>\n",
       "      <td>32</td>\n",
       "    </tr>\n",
       "    <tr>\n",
       "      <th>2011-01-01</th>\n",
       "      <td>spring</td>\n",
       "      <td>0</td>\n",
       "      <td>1</td>\n",
       "      <td>1</td>\n",
       "      <td>3</td>\n",
       "      <td>0</td>\n",
       "      <td>Saturday</td>\n",
       "      <td>0</td>\n",
       "      <td>clear</td>\n",
       "      <td>0.24</td>\n",
       "      <td>0.2879</td>\n",
       "      <td>0.75</td>\n",
       "      <td>0.0</td>\n",
       "      <td>3</td>\n",
       "      <td>10</td>\n",
       "      <td>13</td>\n",
       "    </tr>\n",
       "    <tr>\n",
       "      <th>2011-01-01</th>\n",
       "      <td>spring</td>\n",
       "      <td>0</td>\n",
       "      <td>1</td>\n",
       "      <td>1</td>\n",
       "      <td>4</td>\n",
       "      <td>0</td>\n",
       "      <td>Saturday</td>\n",
       "      <td>0</td>\n",
       "      <td>clear</td>\n",
       "      <td>0.24</td>\n",
       "      <td>0.2879</td>\n",
       "      <td>0.75</td>\n",
       "      <td>0.0</td>\n",
       "      <td>0</td>\n",
       "      <td>1</td>\n",
       "      <td>1</td>\n",
       "    </tr>\n",
       "  </tbody>\n",
       "</table>\n",
       "</div>"
      ],
      "text/plain": [
       "            season  year  month  day  hour  holiday   weekday  workingday  \\\n",
       "date                                                                        \n",
       "2011-01-01  spring     0      1    1     0        0  Saturday           0   \n",
       "2011-01-01  spring     0      1    1     1        0  Saturday           0   \n",
       "2011-01-01  spring     0      1    1     2        0  Saturday           0   \n",
       "2011-01-01  spring     0      1    1     3        0  Saturday           0   \n",
       "2011-01-01  spring     0      1    1     4        0  Saturday           0   \n",
       "\n",
       "           weather  temp   atemp  humidity  windspeed  casual  registered  \\\n",
       "date                                                                        \n",
       "2011-01-01   clear  0.24  0.2879      0.81        0.0       3          13   \n",
       "2011-01-01   clear  0.22  0.2727      0.80        0.0       8          32   \n",
       "2011-01-01   clear  0.22  0.2727      0.80        0.0       5          27   \n",
       "2011-01-01   clear  0.24  0.2879      0.75        0.0       3          10   \n",
       "2011-01-01   clear  0.24  0.2879      0.75        0.0       0           1   \n",
       "\n",
       "            count  \n",
       "date               \n",
       "2011-01-01     16  \n",
       "2011-01-01     40  \n",
       "2011-01-01     32  \n",
       "2011-01-01     13  \n",
       "2011-01-01      1  "
      ]
     },
     "execution_count": 22,
     "metadata": {},
     "output_type": "execute_result"
    }
   ],
   "source": [
    "df1.head()"
   ]
  },
  {
   "cell_type": "code",
   "execution_count": 23,
   "metadata": {},
   "outputs": [
    {
     "data": {
      "text/plain": [
       "weather\n",
       "clear                    2338173\n",
       "mist/cloudy               795952\n",
       "light/heavy rain/snow     158331\n",
       "Name: count, dtype: int64"
      ]
     },
     "execution_count": 23,
     "metadata": {},
     "output_type": "execute_result"
    }
   ],
   "source": [
    "#Checking the which \"weather\" has the highest bike rental count\n",
    "df1.groupby([\"weather\"])['count'].sum().sort_values(ascending=False)"
   ]
  },
  {
   "cell_type": "markdown",
   "metadata": {},
   "source": [
    "•Highest number of bikes are rented when \"weather\" was \"clear\"   \n",
    "•Lowest number of bikes are rented when \"weather\" was \"light/heavy rain/snow \" "
   ]
  },
  {
   "cell_type": "code",
   "execution_count": 24,
   "metadata": {},
   "outputs": [
    {
     "data": {
      "text/plain": [
       "season\n",
       "fall      1061129\n",
       "summer     918589\n",
       "winter     841613\n",
       "spring     471348\n",
       "Name: count, dtype: int64"
      ]
     },
     "execution_count": 24,
     "metadata": {},
     "output_type": "execute_result"
    }
   ],
   "source": [
    "#Checking the which \"season\" has the highest bike rental count\n",
    "df1.groupby([\"season\"])['count'].sum().sort_values(ascending=False)"
   ]
  },
  {
   "cell_type": "markdown",
   "metadata": {},
   "source": [
    "•Highest number of bikes are rented in \"fall\" season.  \n",
    "•Lowest number of bikes  are rented in \"spring\" season."
   ]
  },
  {
   "cell_type": "code",
   "execution_count": 25,
   "metadata": {},
   "outputs": [
    {
     "data": {
      "text/plain": [
       "holiday\n",
       "0    3214244\n",
       "1      78435\n",
       "Name: count, dtype: int64"
      ]
     },
     "execution_count": 25,
     "metadata": {},
     "output_type": "execute_result"
    }
   ],
   "source": [
    "#\"holiday variable\"\n",
    "df1.groupby([\"holiday\"])['count'].sum().sort_values(ascending=False)"
   ]
  },
  {
   "cell_type": "markdown",
   "metadata": {},
   "source": [
    "•More number of bikes have been rented on non-holiday"
   ]
  },
  {
   "cell_type": "code",
   "execution_count": 26,
   "metadata": {},
   "outputs": [
    {
     "data": {
      "text/plain": [
       "workingday\n",
       "1    2292410\n",
       "0    1000269\n",
       "Name: count, dtype: int64"
      ]
     },
     "execution_count": 26,
     "metadata": {},
     "output_type": "execute_result"
    }
   ],
   "source": [
    "#\"workingday\" variable\n",
    "df1.groupby([\"workingday\"])['count'].sum().sort_values(ascending=False)"
   ]
  },
  {
   "cell_type": "markdown",
   "metadata": {},
   "source": [
    "•The Bike rental count is more on Working day."
   ]
  },
  {
   "cell_type": "code",
   "execution_count": 27,
   "metadata": {},
   "outputs": [
    {
     "data": {
      "text/plain": [
       "year\n",
       "1    2049576\n",
       "0    1243103\n",
       "Name: count, dtype: int64"
      ]
     },
     "execution_count": 27,
     "metadata": {},
     "output_type": "execute_result"
    }
   ],
   "source": [
    "#\"year\" variable\n",
    "df1.groupby([\"year\"])['count'].sum().sort_values(ascending=False)"
   ]
  },
  {
   "cell_type": "markdown",
   "metadata": {},
   "source": [
    "•The year 2012 has more number of rented bikes as compared to year 2011."
   ]
  },
  {
   "cell_type": "code",
   "execution_count": 28,
   "metadata": {},
   "outputs": [
    {
     "data": {
      "text/plain": [
       "Index(['season', 'year', 'month', 'day', 'hour', 'holiday', 'weekday',\n",
       "       'workingday', 'weather', 'temp', 'atemp', 'humidity', 'windspeed',\n",
       "       'casual', 'registered', 'count'],\n",
       "      dtype='object')"
      ]
     },
     "execution_count": 28,
     "metadata": {},
     "output_type": "execute_result"
    }
   ],
   "source": [
    "df1.columns"
   ]
  },
  {
   "cell_type": "code",
   "execution_count": 29,
   "metadata": {},
   "outputs": [],
   "source": [
    "num_var=['month', 'day', 'hour', 'holiday',\n",
    "       'workingday', 'temp', 'atemp', 'humidity', 'windspeed',\n",
    "       'casual', 'registered', 'count']"
   ]
  },
  {
   "cell_type": "code",
   "execution_count": 30,
   "metadata": {},
   "outputs": [
    {
     "data": {
      "text/html": [
       "<style  type=\"text/css\" >\n",
       "#T_0441ca80_1e22_11ec_ab55_18473df4720arow0_col0,#T_0441ca80_1e22_11ec_ab55_18473df4720arow1_col1,#T_0441ca80_1e22_11ec_ab55_18473df4720arow2_col2,#T_0441ca80_1e22_11ec_ab55_18473df4720arow3_col3,#T_0441ca80_1e22_11ec_ab55_18473df4720arow4_col4,#T_0441ca80_1e22_11ec_ab55_18473df4720arow5_col5,#T_0441ca80_1e22_11ec_ab55_18473df4720arow6_col6,#T_0441ca80_1e22_11ec_ab55_18473df4720arow7_col7,#T_0441ca80_1e22_11ec_ab55_18473df4720arow8_col8,#T_0441ca80_1e22_11ec_ab55_18473df4720arow9_col9,#T_0441ca80_1e22_11ec_ab55_18473df4720arow10_col10,#T_0441ca80_1e22_11ec_ab55_18473df4720arow11_col11{\n",
       "            background-color:  #023858;\n",
       "            color:  #f1f1f1;\n",
       "        }#T_0441ca80_1e22_11ec_ab55_18473df4720arow0_col1,#T_0441ca80_1e22_11ec_ab55_18473df4720arow4_col1,#T_0441ca80_1e22_11ec_ab55_18473df4720arow11_col7{\n",
       "            background-color:  #fdf5fa;\n",
       "            color:  #000000;\n",
       "        }#T_0441ca80_1e22_11ec_ab55_18473df4720arow0_col2,#T_0441ca80_1e22_11ec_ab55_18473df4720arow1_col10{\n",
       "            background-color:  #d9d8ea;\n",
       "            color:  #000000;\n",
       "        }#T_0441ca80_1e22_11ec_ab55_18473df4720arow0_col3,#T_0441ca80_1e22_11ec_ab55_18473df4720arow1_col2,#T_0441ca80_1e22_11ec_ab55_18473df4720arow3_col2,#T_0441ca80_1e22_11ec_ab55_18473df4720arow4_col2,#T_0441ca80_1e22_11ec_ab55_18473df4720arow4_col8{\n",
       "            background-color:  #d8d7e9;\n",
       "            color:  #000000;\n",
       "        }#T_0441ca80_1e22_11ec_ab55_18473df4720arow0_col4,#T_0441ca80_1e22_11ec_ab55_18473df4720arow3_col8,#T_0441ca80_1e22_11ec_ab55_18473df4720arow9_col3,#T_0441ca80_1e22_11ec_ab55_18473df4720arow10_col0{\n",
       "            background-color:  #d5d5e8;\n",
       "            color:  #000000;\n",
       "        }#T_0441ca80_1e22_11ec_ab55_18473df4720arow0_col5{\n",
       "            background-color:  #d0d1e6;\n",
       "            color:  #000000;\n",
       "        }#T_0441ca80_1e22_11ec_ab55_18473df4720arow0_col6,#T_0441ca80_1e22_11ec_ab55_18473df4720arow1_col9,#T_0441ca80_1e22_11ec_ab55_18473df4720arow11_col4{\n",
       "            background-color:  #ced0e6;\n",
       "            color:  #000000;\n",
       "        }#T_0441ca80_1e22_11ec_ab55_18473df4720arow0_col7{\n",
       "            background-color:  #a4bcda;\n",
       "            color:  #000000;\n",
       "        }#T_0441ca80_1e22_11ec_ab55_18473df4720arow0_col8{\n",
       "            background-color:  #ede8f3;\n",
       "            color:  #000000;\n",
       "        }#T_0441ca80_1e22_11ec_ab55_18473df4720arow0_col9{\n",
       "            background-color:  #bdc8e1;\n",
       "            color:  #000000;\n",
       "        }#T_0441ca80_1e22_11ec_ab55_18473df4720arow0_col10{\n",
       "            background-color:  #bcc7e1;\n",
       "            color:  #000000;\n",
       "        }#T_0441ca80_1e22_11ec_ab55_18473df4720arow0_col11,#T_0441ca80_1e22_11ec_ab55_18473df4720arow10_col4{\n",
       "            background-color:  #b4c4df;\n",
       "            color:  #000000;\n",
       "        }#T_0441ca80_1e22_11ec_ab55_18473df4720arow1_col0{\n",
       "            background-color:  #ece7f2;\n",
       "            color:  #000000;\n",
       "        }#T_0441ca80_1e22_11ec_ab55_18473df4720arow1_col3,#T_0441ca80_1e22_11ec_ab55_18473df4720arow2_col5,#T_0441ca80_1e22_11ec_ab55_18473df4720arow7_col3{\n",
       "            background-color:  #dddbec;\n",
       "            color:  #000000;\n",
       "        }#T_0441ca80_1e22_11ec_ab55_18473df4720arow1_col4{\n",
       "            background-color:  #d3d4e7;\n",
       "            color:  #000000;\n",
       "        }#T_0441ca80_1e22_11ec_ab55_18473df4720arow1_col5{\n",
       "            background-color:  #f1ebf5;\n",
       "            color:  #000000;\n",
       "        }#T_0441ca80_1e22_11ec_ab55_18473df4720arow1_col6{\n",
       "            background-color:  #f3edf5;\n",
       "            color:  #000000;\n",
       "        }#T_0441ca80_1e22_11ec_ab55_18473df4720arow1_col7,#T_0441ca80_1e22_11ec_ab55_18473df4720arow5_col4{\n",
       "            background-color:  #c8cde4;\n",
       "            color:  #000000;\n",
       "        }#T_0441ca80_1e22_11ec_ab55_18473df4720arow1_col8,#T_0441ca80_1e22_11ec_ab55_18473df4720arow2_col4{\n",
       "            background-color:  #d4d4e8;\n",
       "            color:  #000000;\n",
       "        }#T_0441ca80_1e22_11ec_ab55_18473df4720arow1_col11{\n",
       "            background-color:  #d2d3e7;\n",
       "            color:  #000000;\n",
       "        }#T_0441ca80_1e22_11ec_ab55_18473df4720arow2_col0,#T_0441ca80_1e22_11ec_ab55_18473df4720arow4_col0,#T_0441ca80_1e22_11ec_ab55_18473df4720arow4_col5{\n",
       "            background-color:  #eee8f3;\n",
       "            color:  #000000;\n",
       "        }#T_0441ca80_1e22_11ec_ab55_18473df4720arow2_col1,#T_0441ca80_1e22_11ec_ab55_18473df4720arow7_col6{\n",
       "            background-color:  #fef6fa;\n",
       "            color:  #000000;\n",
       "        }#T_0441ca80_1e22_11ec_ab55_18473df4720arow2_col3{\n",
       "            background-color:  #dbdaeb;\n",
       "            color:  #000000;\n",
       "        }#T_0441ca80_1e22_11ec_ab55_18473df4720arow2_col6{\n",
       "            background-color:  #dfddec;\n",
       "            color:  #000000;\n",
       "        }#T_0441ca80_1e22_11ec_ab55_18473df4720arow2_col7,#T_0441ca80_1e22_11ec_ab55_18473df4720arow10_col7{\n",
       "            background-color:  #f7f0f7;\n",
       "            color:  #000000;\n",
       "        }#T_0441ca80_1e22_11ec_ab55_18473df4720arow2_col8{\n",
       "            background-color:  #b5c4df;\n",
       "            color:  #000000;\n",
       "        }#T_0441ca80_1e22_11ec_ab55_18473df4720arow2_col9{\n",
       "            background-color:  #7bacd1;\n",
       "            color:  #000000;\n",
       "        }#T_0441ca80_1e22_11ec_ab55_18473df4720arow2_col10,#T_0441ca80_1e22_11ec_ab55_18473df4720arow10_col2{\n",
       "            background-color:  #6fa7ce;\n",
       "            color:  #000000;\n",
       "        }#T_0441ca80_1e22_11ec_ab55_18473df4720arow2_col11{\n",
       "            background-color:  #60a1ca;\n",
       "            color:  #000000;\n",
       "        }#T_0441ca80_1e22_11ec_ab55_18473df4720arow3_col0{\n",
       "            background-color:  #eae6f1;\n",
       "            color:  #000000;\n",
       "        }#T_0441ca80_1e22_11ec_ab55_18473df4720arow3_col1,#T_0441ca80_1e22_11ec_ab55_18473df4720arow4_col3,#T_0441ca80_1e22_11ec_ab55_18473df4720arow7_col2,#T_0441ca80_1e22_11ec_ab55_18473df4720arow7_col5,#T_0441ca80_1e22_11ec_ab55_18473df4720arow7_col8,#T_0441ca80_1e22_11ec_ab55_18473df4720arow7_col9,#T_0441ca80_1e22_11ec_ab55_18473df4720arow7_col10,#T_0441ca80_1e22_11ec_ab55_18473df4720arow7_col11,#T_0441ca80_1e22_11ec_ab55_18473df4720arow8_col0,#T_0441ca80_1e22_11ec_ab55_18473df4720arow8_col6,#T_0441ca80_1e22_11ec_ab55_18473df4720arow9_col4,#T_0441ca80_1e22_11ec_ab55_18473df4720arow9_col7{\n",
       "            background-color:  #fff7fb;\n",
       "            color:  #000000;\n",
       "        }#T_0441ca80_1e22_11ec_ab55_18473df4720arow3_col4,#T_0441ca80_1e22_11ec_ab55_18473df4720arow5_col1,#T_0441ca80_1e22_11ec_ab55_18473df4720arow7_col1{\n",
       "            background-color:  #faf2f8;\n",
       "            color:  #000000;\n",
       "        }#T_0441ca80_1e22_11ec_ab55_18473df4720arow3_col5,#T_0441ca80_1e22_11ec_ab55_18473df4720arow8_col7{\n",
       "            background-color:  #f9f2f8;\n",
       "            color:  #000000;\n",
       "        }#T_0441ca80_1e22_11ec_ab55_18473df4720arow3_col6,#T_0441ca80_1e22_11ec_ab55_18473df4720arow6_col1{\n",
       "            background-color:  #fbf3f9;\n",
       "            color:  #000000;\n",
       "        }#T_0441ca80_1e22_11ec_ab55_18473df4720arow3_col7{\n",
       "            background-color:  #d1d2e6;\n",
       "            color:  #000000;\n",
       "        }#T_0441ca80_1e22_11ec_ab55_18473df4720arow3_col9,#T_0441ca80_1e22_11ec_ab55_18473df4720arow8_col10{\n",
       "            background-color:  #c6cce3;\n",
       "            color:  #000000;\n",
       "        }#T_0441ca80_1e22_11ec_ab55_18473df4720arow3_col10,#T_0441ca80_1e22_11ec_ab55_18473df4720arow6_col3,#T_0441ca80_1e22_11ec_ab55_18473df4720arow6_col8,#T_0441ca80_1e22_11ec_ab55_18473df4720arow9_col0,#T_0441ca80_1e22_11ec_ab55_18473df4720arow11_col3{\n",
       "            background-color:  #e0deed;\n",
       "            color:  #000000;\n",
       "        }#T_0441ca80_1e22_11ec_ab55_18473df4720arow3_col11,#T_0441ca80_1e22_11ec_ab55_18473df4720arow6_col7,#T_0441ca80_1e22_11ec_ab55_18473df4720arow8_col4{\n",
       "            background-color:  #d7d6e9;\n",
       "            color:  #000000;\n",
       "        }#T_0441ca80_1e22_11ec_ab55_18473df4720arow4_col6{\n",
       "            background-color:  #eee9f3;\n",
       "            color:  #000000;\n",
       "        }#T_0441ca80_1e22_11ec_ab55_18473df4720arow4_col7,#T_0441ca80_1e22_11ec_ab55_18473df4720arow4_col11{\n",
       "            background-color:  #cacee5;\n",
       "            color:  #000000;\n",
       "        }#T_0441ca80_1e22_11ec_ab55_18473df4720arow4_col9{\n",
       "            background-color:  #faf3f9;\n",
       "            color:  #000000;\n",
       "        }#T_0441ca80_1e22_11ec_ab55_18473df4720arow4_col10,#T_0441ca80_1e22_11ec_ab55_18473df4720arow6_col2,#T_0441ca80_1e22_11ec_ab55_18473df4720arow8_col2{\n",
       "            background-color:  #b8c6e0;\n",
       "            color:  #000000;\n",
       "        }#T_0441ca80_1e22_11ec_ab55_18473df4720arow5_col0,#T_0441ca80_1e22_11ec_ab55_18473df4720arow11_col8{\n",
       "            background-color:  #c0c9e2;\n",
       "            color:  #000000;\n",
       "        }#T_0441ca80_1e22_11ec_ab55_18473df4720arow5_col2,#T_0441ca80_1e22_11ec_ab55_18473df4720arow8_col9{\n",
       "            background-color:  #b7c5df;\n",
       "            color:  #000000;\n",
       "        }#T_0441ca80_1e22_11ec_ab55_18473df4720arow5_col3{\n",
       "            background-color:  #e0dded;\n",
       "            color:  #000000;\n",
       "        }#T_0441ca80_1e22_11ec_ab55_18473df4720arow5_col6,#T_0441ca80_1e22_11ec_ab55_18473df4720arow6_col5{\n",
       "            background-color:  #023a5b;\n",
       "            color:  #f1f1f1;\n",
       "        }#T_0441ca80_1e22_11ec_ab55_18473df4720arow5_col7,#T_0441ca80_1e22_11ec_ab55_18473df4720arow5_col8,#T_0441ca80_1e22_11ec_ab55_18473df4720arow8_col3{\n",
       "            background-color:  #dad9ea;\n",
       "            color:  #000000;\n",
       "        }#T_0441ca80_1e22_11ec_ab55_18473df4720arow5_col9{\n",
       "            background-color:  #4295c3;\n",
       "            color:  #000000;\n",
       "        }#T_0441ca80_1e22_11ec_ab55_18473df4720arow5_col10{\n",
       "            background-color:  #7dacd1;\n",
       "            color:  #000000;\n",
       "        }#T_0441ca80_1e22_11ec_ab55_18473df4720arow5_col11,#T_0441ca80_1e22_11ec_ab55_18473df4720arow6_col11{\n",
       "            background-color:  #5c9fc9;\n",
       "            color:  #000000;\n",
       "        }#T_0441ca80_1e22_11ec_ab55_18473df4720arow6_col0{\n",
       "            background-color:  #bfc9e1;\n",
       "            color:  #000000;\n",
       "        }#T_0441ca80_1e22_11ec_ab55_18473df4720arow6_col4{\n",
       "            background-color:  #c9cee4;\n",
       "            color:  #000000;\n",
       "        }#T_0441ca80_1e22_11ec_ab55_18473df4720arow6_col9{\n",
       "            background-color:  #4496c3;\n",
       "            color:  #000000;\n",
       "        }#T_0441ca80_1e22_11ec_ab55_18473df4720arow6_col10{\n",
       "            background-color:  #7eadd1;\n",
       "            color:  #000000;\n",
       "        }#T_0441ca80_1e22_11ec_ab55_18473df4720arow7_col0{\n",
       "            background-color:  #cccfe5;\n",
       "            color:  #000000;\n",
       "        }#T_0441ca80_1e22_11ec_ab55_18473df4720arow7_col4{\n",
       "            background-color:  #d2d2e7;\n",
       "            color:  #000000;\n",
       "        }#T_0441ca80_1e22_11ec_ab55_18473df4720arow8_col1{\n",
       "            background-color:  #fcf4fa;\n",
       "            color:  #000000;\n",
       "        }#T_0441ca80_1e22_11ec_ab55_18473df4720arow8_col5{\n",
       "            background-color:  #f8f1f8;\n",
       "            color:  #000000;\n",
       "        }#T_0441ca80_1e22_11ec_ab55_18473df4720arow8_col11{\n",
       "            background-color:  #bbc7e0;\n",
       "            color:  #000000;\n",
       "        }#T_0441ca80_1e22_11ec_ab55_18473df4720arow9_col1,#T_0441ca80_1e22_11ec_ab55_18473df4720arow10_col1,#T_0441ca80_1e22_11ec_ab55_18473df4720arow11_col1{\n",
       "            background-color:  #fef6fb;\n",
       "            color:  #000000;\n",
       "        }#T_0441ca80_1e22_11ec_ab55_18473df4720arow9_col2{\n",
       "            background-color:  #88b1d4;\n",
       "            color:  #000000;\n",
       "        }#T_0441ca80_1e22_11ec_ab55_18473df4720arow9_col5{\n",
       "            background-color:  #76aad0;\n",
       "            color:  #000000;\n",
       "        }#T_0441ca80_1e22_11ec_ab55_18473df4720arow9_col6{\n",
       "            background-color:  #79abd0;\n",
       "            color:  #000000;\n",
       "        }#T_0441ca80_1e22_11ec_ab55_18473df4720arow9_col8{\n",
       "            background-color:  #c1cae2;\n",
       "            color:  #000000;\n",
       "        }#T_0441ca80_1e22_11ec_ab55_18473df4720arow9_col10{\n",
       "            background-color:  #3d93c2;\n",
       "            color:  #000000;\n",
       "        }#T_0441ca80_1e22_11ec_ab55_18473df4720arow9_col11{\n",
       "            background-color:  #056dab;\n",
       "            color:  #f1f1f1;\n",
       "        }#T_0441ca80_1e22_11ec_ab55_18473df4720arow10_col3{\n",
       "            background-color:  #e4e1ef;\n",
       "            color:  #000000;\n",
       "        }#T_0441ca80_1e22_11ec_ab55_18473df4720arow10_col5{\n",
       "            background-color:  #a5bddb;\n",
       "            color:  #000000;\n",
       "        }#T_0441ca80_1e22_11ec_ab55_18473df4720arow10_col6{\n",
       "            background-color:  #a7bddb;\n",
       "            color:  #000000;\n",
       "        }#T_0441ca80_1e22_11ec_ab55_18473df4720arow10_col8{\n",
       "            background-color:  #c4cbe3;\n",
       "            color:  #000000;\n",
       "        }#T_0441ca80_1e22_11ec_ab55_18473df4720arow10_col9{\n",
       "            background-color:  #328dbf;\n",
       "            color:  #000000;\n",
       "        }#T_0441ca80_1e22_11ec_ab55_18473df4720arow10_col11,#T_0441ca80_1e22_11ec_ab55_18473df4720arow11_col10{\n",
       "            background-color:  #023d60;\n",
       "            color:  #f1f1f1;\n",
       "        }#T_0441ca80_1e22_11ec_ab55_18473df4720arow11_col0{\n",
       "            background-color:  #d6d6e9;\n",
       "            color:  #000000;\n",
       "        }#T_0441ca80_1e22_11ec_ab55_18473df4720arow11_col2{\n",
       "            background-color:  #67a4cc;\n",
       "            color:  #000000;\n",
       "        }#T_0441ca80_1e22_11ec_ab55_18473df4720arow11_col5{\n",
       "            background-color:  #8bb2d4;\n",
       "            color:  #000000;\n",
       "        }#T_0441ca80_1e22_11ec_ab55_18473df4720arow11_col6{\n",
       "            background-color:  #8eb3d5;\n",
       "            color:  #000000;\n",
       "        }#T_0441ca80_1e22_11ec_ab55_18473df4720arow11_col9{\n",
       "            background-color:  #056caa;\n",
       "            color:  #f1f1f1;\n",
       "        }</style><table id=\"T_0441ca80_1e22_11ec_ab55_18473df4720a\" ><thead>    <tr>        <th class=\"blank level0\" ></th>        <th class=\"col_heading level0 col0\" >month</th>        <th class=\"col_heading level0 col1\" >day</th>        <th class=\"col_heading level0 col2\" >hour</th>        <th class=\"col_heading level0 col3\" >holiday</th>        <th class=\"col_heading level0 col4\" >workingday</th>        <th class=\"col_heading level0 col5\" >temp</th>        <th class=\"col_heading level0 col6\" >atemp</th>        <th class=\"col_heading level0 col7\" >humidity</th>        <th class=\"col_heading level0 col8\" >windspeed</th>        <th class=\"col_heading level0 col9\" >casual</th>        <th class=\"col_heading level0 col10\" >registered</th>        <th class=\"col_heading level0 col11\" >count</th>    </tr></thead><tbody>\n",
       "                <tr>\n",
       "                        <th id=\"T_0441ca80_1e22_11ec_ab55_18473df4720alevel0_row0\" class=\"row_heading level0 row0\" >month</th>\n",
       "                        <td id=\"T_0441ca80_1e22_11ec_ab55_18473df4720arow0_col0\" class=\"data row0 col0\" >1.000000</td>\n",
       "                        <td id=\"T_0441ca80_1e22_11ec_ab55_18473df4720arow0_col1\" class=\"data row0 col1\" >0.007929</td>\n",
       "                        <td id=\"T_0441ca80_1e22_11ec_ab55_18473df4720arow0_col2\" class=\"data row0 col2\" >-0.005772</td>\n",
       "                        <td id=\"T_0441ca80_1e22_11ec_ab55_18473df4720arow0_col3\" class=\"data row0 col3\" >0.018430</td>\n",
       "                        <td id=\"T_0441ca80_1e22_11ec_ab55_18473df4720arow0_col4\" class=\"data row0 col4\" >-0.003477</td>\n",
       "                        <td id=\"T_0441ca80_1e22_11ec_ab55_18473df4720arow0_col5\" class=\"data row0 col5\" >0.201691</td>\n",
       "                        <td id=\"T_0441ca80_1e22_11ec_ab55_18473df4720arow0_col6\" class=\"data row0 col6\" >0.208096</td>\n",
       "                        <td id=\"T_0441ca80_1e22_11ec_ab55_18473df4720arow0_col7\" class=\"data row0 col7\" >0.164411</td>\n",
       "                        <td id=\"T_0441ca80_1e22_11ec_ab55_18473df4720arow0_col8\" class=\"data row0 col8\" >-0.135386</td>\n",
       "                        <td id=\"T_0441ca80_1e22_11ec_ab55_18473df4720arow0_col9\" class=\"data row0 col9\" >0.068457</td>\n",
       "                        <td id=\"T_0441ca80_1e22_11ec_ab55_18473df4720arow0_col10\" class=\"data row0 col10\" >0.122273</td>\n",
       "                        <td id=\"T_0441ca80_1e22_11ec_ab55_18473df4720arow0_col11\" class=\"data row0 col11\" >0.120638</td>\n",
       "            </tr>\n",
       "            <tr>\n",
       "                        <th id=\"T_0441ca80_1e22_11ec_ab55_18473df4720alevel0_row1\" class=\"row_heading level0 row1\" >day</th>\n",
       "                        <td id=\"T_0441ca80_1e22_11ec_ab55_18473df4720arow1_col0\" class=\"data row1 col0\" >0.007929</td>\n",
       "                        <td id=\"T_0441ca80_1e22_11ec_ab55_18473df4720arow1_col1\" class=\"data row1 col1\" >1.000000</td>\n",
       "                        <td id=\"T_0441ca80_1e22_11ec_ab55_18473df4720arow1_col2\" class=\"data row1 col2\" >0.001538</td>\n",
       "                        <td id=\"T_0441ca80_1e22_11ec_ab55_18473df4720arow1_col3\" class=\"data row1 col3\" >-0.010132</td>\n",
       "                        <td id=\"T_0441ca80_1e22_11ec_ab55_18473df4720arow1_col4\" class=\"data row1 col4\" >0.008627</td>\n",
       "                        <td id=\"T_0441ca80_1e22_11ec_ab55_18473df4720arow1_col5\" class=\"data row1 col5\" >0.027180</td>\n",
       "                        <td id=\"T_0441ca80_1e22_11ec_ab55_18473df4720arow1_col6\" class=\"data row1 col6\" >0.021269</td>\n",
       "                        <td id=\"T_0441ca80_1e22_11ec_ab55_18473df4720arow1_col7\" class=\"data row1 col7\" >0.025663</td>\n",
       "                        <td id=\"T_0441ca80_1e22_11ec_ab55_18473df4720arow1_col8\" class=\"data row1 col8\" >0.010505</td>\n",
       "                        <td id=\"T_0441ca80_1e22_11ec_ab55_18473df4720arow1_col9\" class=\"data row1 col9\" >-0.003283</td>\n",
       "                        <td id=\"T_0441ca80_1e22_11ec_ab55_18473df4720arow1_col10\" class=\"data row1 col10\" >-0.004098</td>\n",
       "                        <td id=\"T_0441ca80_1e22_11ec_ab55_18473df4720arow1_col11\" class=\"data row1 col11\" >-0.004312</td>\n",
       "            </tr>\n",
       "            <tr>\n",
       "                        <th id=\"T_0441ca80_1e22_11ec_ab55_18473df4720alevel0_row2\" class=\"row_heading level0 row2\" >hour</th>\n",
       "                        <td id=\"T_0441ca80_1e22_11ec_ab55_18473df4720arow2_col0\" class=\"data row2 col0\" >-0.005772</td>\n",
       "                        <td id=\"T_0441ca80_1e22_11ec_ab55_18473df4720arow2_col1\" class=\"data row2 col1\" >0.001538</td>\n",
       "                        <td id=\"T_0441ca80_1e22_11ec_ab55_18473df4720arow2_col2\" class=\"data row2 col2\" >1.000000</td>\n",
       "                        <td id=\"T_0441ca80_1e22_11ec_ab55_18473df4720arow2_col3\" class=\"data row2 col3\" >0.000479</td>\n",
       "                        <td id=\"T_0441ca80_1e22_11ec_ab55_18473df4720arow2_col4\" class=\"data row2 col4\" >0.002285</td>\n",
       "                        <td id=\"T_0441ca80_1e22_11ec_ab55_18473df4720arow2_col5\" class=\"data row2 col5\" >0.137603</td>\n",
       "                        <td id=\"T_0441ca80_1e22_11ec_ab55_18473df4720arow2_col6\" class=\"data row2 col6\" >0.133750</td>\n",
       "                        <td id=\"T_0441ca80_1e22_11ec_ab55_18473df4720arow2_col7\" class=\"data row2 col7\" >-0.276498</td>\n",
       "                        <td id=\"T_0441ca80_1e22_11ec_ab55_18473df4720arow2_col8\" class=\"data row2 col8\" >0.137252</td>\n",
       "                        <td id=\"T_0441ca80_1e22_11ec_ab55_18473df4720arow2_col9\" class=\"data row2 col9\" >0.301202</td>\n",
       "                        <td id=\"T_0441ca80_1e22_11ec_ab55_18473df4720arow2_col10\" class=\"data row2 col10\" >0.374141</td>\n",
       "                        <td id=\"T_0441ca80_1e22_11ec_ab55_18473df4720arow2_col11\" class=\"data row2 col11\" >0.394071</td>\n",
       "            </tr>\n",
       "            <tr>\n",
       "                        <th id=\"T_0441ca80_1e22_11ec_ab55_18473df4720alevel0_row3\" class=\"row_heading level0 row3\" >holiday</th>\n",
       "                        <td id=\"T_0441ca80_1e22_11ec_ab55_18473df4720arow3_col0\" class=\"data row3 col0\" >0.018430</td>\n",
       "                        <td id=\"T_0441ca80_1e22_11ec_ab55_18473df4720arow3_col1\" class=\"data row3 col1\" >-0.010132</td>\n",
       "                        <td id=\"T_0441ca80_1e22_11ec_ab55_18473df4720arow3_col2\" class=\"data row3 col2\" >0.000479</td>\n",
       "                        <td id=\"T_0441ca80_1e22_11ec_ab55_18473df4720arow3_col3\" class=\"data row3 col3\" >1.000000</td>\n",
       "                        <td id=\"T_0441ca80_1e22_11ec_ab55_18473df4720arow3_col4\" class=\"data row3 col4\" >-0.252471</td>\n",
       "                        <td id=\"T_0441ca80_1e22_11ec_ab55_18473df4720arow3_col5\" class=\"data row3 col5\" >-0.027340</td>\n",
       "                        <td id=\"T_0441ca80_1e22_11ec_ab55_18473df4720arow3_col6\" class=\"data row3 col6\" >-0.030973</td>\n",
       "                        <td id=\"T_0441ca80_1e22_11ec_ab55_18473df4720arow3_col7\" class=\"data row3 col7\" >-0.010588</td>\n",
       "                        <td id=\"T_0441ca80_1e22_11ec_ab55_18473df4720arow3_col8\" class=\"data row3 col8\" >0.003988</td>\n",
       "                        <td id=\"T_0441ca80_1e22_11ec_ab55_18473df4720arow3_col9\" class=\"data row3 col9\" >0.031564</td>\n",
       "                        <td id=\"T_0441ca80_1e22_11ec_ab55_18473df4720arow3_col10\" class=\"data row3 col10\" >-0.047345</td>\n",
       "                        <td id=\"T_0441ca80_1e22_11ec_ab55_18473df4720arow3_col11\" class=\"data row3 col11\" >-0.030927</td>\n",
       "            </tr>\n",
       "            <tr>\n",
       "                        <th id=\"T_0441ca80_1e22_11ec_ab55_18473df4720alevel0_row4\" class=\"row_heading level0 row4\" >workingday</th>\n",
       "                        <td id=\"T_0441ca80_1e22_11ec_ab55_18473df4720arow4_col0\" class=\"data row4 col0\" >-0.003477</td>\n",
       "                        <td id=\"T_0441ca80_1e22_11ec_ab55_18473df4720arow4_col1\" class=\"data row4 col1\" >0.008627</td>\n",
       "                        <td id=\"T_0441ca80_1e22_11ec_ab55_18473df4720arow4_col2\" class=\"data row4 col2\" >0.002285</td>\n",
       "                        <td id=\"T_0441ca80_1e22_11ec_ab55_18473df4720arow4_col3\" class=\"data row4 col3\" >-0.252471</td>\n",
       "                        <td id=\"T_0441ca80_1e22_11ec_ab55_18473df4720arow4_col4\" class=\"data row4 col4\" >1.000000</td>\n",
       "                        <td id=\"T_0441ca80_1e22_11ec_ab55_18473df4720arow4_col5\" class=\"data row4 col5\" >0.055390</td>\n",
       "                        <td id=\"T_0441ca80_1e22_11ec_ab55_18473df4720arow4_col6\" class=\"data row4 col6\" >0.054667</td>\n",
       "                        <td id=\"T_0441ca80_1e22_11ec_ab55_18473df4720arow4_col7\" class=\"data row4 col7\" >0.015688</td>\n",
       "                        <td id=\"T_0441ca80_1e22_11ec_ab55_18473df4720arow4_col8\" class=\"data row4 col8\" >-0.011830</td>\n",
       "                        <td id=\"T_0441ca80_1e22_11ec_ab55_18473df4720arow4_col9\" class=\"data row4 col9\" >-0.300942</td>\n",
       "                        <td id=\"T_0441ca80_1e22_11ec_ab55_18473df4720arow4_col10\" class=\"data row4 col10\" >0.134326</td>\n",
       "                        <td id=\"T_0441ca80_1e22_11ec_ab55_18473df4720arow4_col11\" class=\"data row4 col11\" >0.030284</td>\n",
       "            </tr>\n",
       "            <tr>\n",
       "                        <th id=\"T_0441ca80_1e22_11ec_ab55_18473df4720alevel0_row5\" class=\"row_heading level0 row5\" >temp</th>\n",
       "                        <td id=\"T_0441ca80_1e22_11ec_ab55_18473df4720arow5_col0\" class=\"data row5 col0\" >0.201691</td>\n",
       "                        <td id=\"T_0441ca80_1e22_11ec_ab55_18473df4720arow5_col1\" class=\"data row5 col1\" >0.027180</td>\n",
       "                        <td id=\"T_0441ca80_1e22_11ec_ab55_18473df4720arow5_col2\" class=\"data row5 col2\" >0.137603</td>\n",
       "                        <td id=\"T_0441ca80_1e22_11ec_ab55_18473df4720arow5_col3\" class=\"data row5 col3\" >-0.027340</td>\n",
       "                        <td id=\"T_0441ca80_1e22_11ec_ab55_18473df4720arow5_col4\" class=\"data row5 col4\" >0.055390</td>\n",
       "                        <td id=\"T_0441ca80_1e22_11ec_ab55_18473df4720arow5_col5\" class=\"data row5 col5\" >1.000000</td>\n",
       "                        <td id=\"T_0441ca80_1e22_11ec_ab55_18473df4720arow5_col6\" class=\"data row5 col6\" >0.987672</td>\n",
       "                        <td id=\"T_0441ca80_1e22_11ec_ab55_18473df4720arow5_col7\" class=\"data row5 col7\" >-0.069881</td>\n",
       "                        <td id=\"T_0441ca80_1e22_11ec_ab55_18473df4720arow5_col8\" class=\"data row5 col8\" >-0.023125</td>\n",
       "                        <td id=\"T_0441ca80_1e22_11ec_ab55_18473df4720arow5_col9\" class=\"data row5 col9\" >0.459616</td>\n",
       "                        <td id=\"T_0441ca80_1e22_11ec_ab55_18473df4720arow5_col10\" class=\"data row5 col10\" >0.335361</td>\n",
       "                        <td id=\"T_0441ca80_1e22_11ec_ab55_18473df4720arow5_col11\" class=\"data row5 col11\" >0.404772</td>\n",
       "            </tr>\n",
       "            <tr>\n",
       "                        <th id=\"T_0441ca80_1e22_11ec_ab55_18473df4720alevel0_row6\" class=\"row_heading level0 row6\" >atemp</th>\n",
       "                        <td id=\"T_0441ca80_1e22_11ec_ab55_18473df4720arow6_col0\" class=\"data row6 col0\" >0.208096</td>\n",
       "                        <td id=\"T_0441ca80_1e22_11ec_ab55_18473df4720arow6_col1\" class=\"data row6 col1\" >0.021269</td>\n",
       "                        <td id=\"T_0441ca80_1e22_11ec_ab55_18473df4720arow6_col2\" class=\"data row6 col2\" >0.133750</td>\n",
       "                        <td id=\"T_0441ca80_1e22_11ec_ab55_18473df4720arow6_col3\" class=\"data row6 col3\" >-0.030973</td>\n",
       "                        <td id=\"T_0441ca80_1e22_11ec_ab55_18473df4720arow6_col4\" class=\"data row6 col4\" >0.054667</td>\n",
       "                        <td id=\"T_0441ca80_1e22_11ec_ab55_18473df4720arow6_col5\" class=\"data row6 col5\" >0.987672</td>\n",
       "                        <td id=\"T_0441ca80_1e22_11ec_ab55_18473df4720arow6_col6\" class=\"data row6 col6\" >1.000000</td>\n",
       "                        <td id=\"T_0441ca80_1e22_11ec_ab55_18473df4720arow6_col7\" class=\"data row6 col7\" >-0.051918</td>\n",
       "                        <td id=\"T_0441ca80_1e22_11ec_ab55_18473df4720arow6_col8\" class=\"data row6 col8\" >-0.062336</td>\n",
       "                        <td id=\"T_0441ca80_1e22_11ec_ab55_18473df4720arow6_col9\" class=\"data row6 col9\" >0.454080</td>\n",
       "                        <td id=\"T_0441ca80_1e22_11ec_ab55_18473df4720arow6_col10\" class=\"data row6 col10\" >0.332559</td>\n",
       "                        <td id=\"T_0441ca80_1e22_11ec_ab55_18473df4720arow6_col11\" class=\"data row6 col11\" >0.400929</td>\n",
       "            </tr>\n",
       "            <tr>\n",
       "                        <th id=\"T_0441ca80_1e22_11ec_ab55_18473df4720alevel0_row7\" class=\"row_heading level0 row7\" >humidity</th>\n",
       "                        <td id=\"T_0441ca80_1e22_11ec_ab55_18473df4720arow7_col0\" class=\"data row7 col0\" >0.164411</td>\n",
       "                        <td id=\"T_0441ca80_1e22_11ec_ab55_18473df4720arow7_col1\" class=\"data row7 col1\" >0.025663</td>\n",
       "                        <td id=\"T_0441ca80_1e22_11ec_ab55_18473df4720arow7_col2\" class=\"data row7 col2\" >-0.276498</td>\n",
       "                        <td id=\"T_0441ca80_1e22_11ec_ab55_18473df4720arow7_col3\" class=\"data row7 col3\" >-0.010588</td>\n",
       "                        <td id=\"T_0441ca80_1e22_11ec_ab55_18473df4720arow7_col4\" class=\"data row7 col4\" >0.015688</td>\n",
       "                        <td id=\"T_0441ca80_1e22_11ec_ab55_18473df4720arow7_col5\" class=\"data row7 col5\" >-0.069881</td>\n",
       "                        <td id=\"T_0441ca80_1e22_11ec_ab55_18473df4720arow7_col6\" class=\"data row7 col6\" >-0.051918</td>\n",
       "                        <td id=\"T_0441ca80_1e22_11ec_ab55_18473df4720arow7_col7\" class=\"data row7 col7\" >1.000000</td>\n",
       "                        <td id=\"T_0441ca80_1e22_11ec_ab55_18473df4720arow7_col8\" class=\"data row7 col8\" >-0.290105</td>\n",
       "                        <td id=\"T_0441ca80_1e22_11ec_ab55_18473df4720arow7_col9\" class=\"data row7 col9\" >-0.347028</td>\n",
       "                        <td id=\"T_0441ca80_1e22_11ec_ab55_18473df4720arow7_col10\" class=\"data row7 col10\" >-0.273933</td>\n",
       "                        <td id=\"T_0441ca80_1e22_11ec_ab55_18473df4720arow7_col11\" class=\"data row7 col11\" >-0.322911</td>\n",
       "            </tr>\n",
       "            <tr>\n",
       "                        <th id=\"T_0441ca80_1e22_11ec_ab55_18473df4720alevel0_row8\" class=\"row_heading level0 row8\" >windspeed</th>\n",
       "                        <td id=\"T_0441ca80_1e22_11ec_ab55_18473df4720arow8_col0\" class=\"data row8 col0\" >-0.135386</td>\n",
       "                        <td id=\"T_0441ca80_1e22_11ec_ab55_18473df4720arow8_col1\" class=\"data row8 col1\" >0.010505</td>\n",
       "                        <td id=\"T_0441ca80_1e22_11ec_ab55_18473df4720arow8_col2\" class=\"data row8 col2\" >0.137252</td>\n",
       "                        <td id=\"T_0441ca80_1e22_11ec_ab55_18473df4720arow8_col3\" class=\"data row8 col3\" >0.003988</td>\n",
       "                        <td id=\"T_0441ca80_1e22_11ec_ab55_18473df4720arow8_col4\" class=\"data row8 col4\" >-0.011830</td>\n",
       "                        <td id=\"T_0441ca80_1e22_11ec_ab55_18473df4720arow8_col5\" class=\"data row8 col5\" >-0.023125</td>\n",
       "                        <td id=\"T_0441ca80_1e22_11ec_ab55_18473df4720arow8_col6\" class=\"data row8 col6\" >-0.062336</td>\n",
       "                        <td id=\"T_0441ca80_1e22_11ec_ab55_18473df4720arow8_col7\" class=\"data row8 col7\" >-0.290105</td>\n",
       "                        <td id=\"T_0441ca80_1e22_11ec_ab55_18473df4720arow8_col8\" class=\"data row8 col8\" >1.000000</td>\n",
       "                        <td id=\"T_0441ca80_1e22_11ec_ab55_18473df4720arow8_col9\" class=\"data row8 col9\" >0.090287</td>\n",
       "                        <td id=\"T_0441ca80_1e22_11ec_ab55_18473df4720arow8_col10\" class=\"data row8 col10\" >0.082321</td>\n",
       "                        <td id=\"T_0441ca80_1e22_11ec_ab55_18473df4720arow8_col11\" class=\"data row8 col11\" >0.093234</td>\n",
       "            </tr>\n",
       "            <tr>\n",
       "                        <th id=\"T_0441ca80_1e22_11ec_ab55_18473df4720alevel0_row9\" class=\"row_heading level0 row9\" >casual</th>\n",
       "                        <td id=\"T_0441ca80_1e22_11ec_ab55_18473df4720arow9_col0\" class=\"data row9 col0\" >0.068457</td>\n",
       "                        <td id=\"T_0441ca80_1e22_11ec_ab55_18473df4720arow9_col1\" class=\"data row9 col1\" >-0.003283</td>\n",
       "                        <td id=\"T_0441ca80_1e22_11ec_ab55_18473df4720arow9_col2\" class=\"data row9 col2\" >0.301202</td>\n",
       "                        <td id=\"T_0441ca80_1e22_11ec_ab55_18473df4720arow9_col3\" class=\"data row9 col3\" >0.031564</td>\n",
       "                        <td id=\"T_0441ca80_1e22_11ec_ab55_18473df4720arow9_col4\" class=\"data row9 col4\" >-0.300942</td>\n",
       "                        <td id=\"T_0441ca80_1e22_11ec_ab55_18473df4720arow9_col5\" class=\"data row9 col5\" >0.459616</td>\n",
       "                        <td id=\"T_0441ca80_1e22_11ec_ab55_18473df4720arow9_col6\" class=\"data row9 col6\" >0.454080</td>\n",
       "                        <td id=\"T_0441ca80_1e22_11ec_ab55_18473df4720arow9_col7\" class=\"data row9 col7\" >-0.347028</td>\n",
       "                        <td id=\"T_0441ca80_1e22_11ec_ab55_18473df4720arow9_col8\" class=\"data row9 col8\" >0.090287</td>\n",
       "                        <td id=\"T_0441ca80_1e22_11ec_ab55_18473df4720arow9_col9\" class=\"data row9 col9\" >1.000000</td>\n",
       "                        <td id=\"T_0441ca80_1e22_11ec_ab55_18473df4720arow9_col10\" class=\"data row9 col10\" >0.506618</td>\n",
       "                        <td id=\"T_0441ca80_1e22_11ec_ab55_18473df4720arow9_col11\" class=\"data row9 col11\" >0.694564</td>\n",
       "            </tr>\n",
       "            <tr>\n",
       "                        <th id=\"T_0441ca80_1e22_11ec_ab55_18473df4720alevel0_row10\" class=\"row_heading level0 row10\" >registered</th>\n",
       "                        <td id=\"T_0441ca80_1e22_11ec_ab55_18473df4720arow10_col0\" class=\"data row10 col0\" >0.122273</td>\n",
       "                        <td id=\"T_0441ca80_1e22_11ec_ab55_18473df4720arow10_col1\" class=\"data row10 col1\" >-0.004098</td>\n",
       "                        <td id=\"T_0441ca80_1e22_11ec_ab55_18473df4720arow10_col2\" class=\"data row10 col2\" >0.374141</td>\n",
       "                        <td id=\"T_0441ca80_1e22_11ec_ab55_18473df4720arow10_col3\" class=\"data row10 col3\" >-0.047345</td>\n",
       "                        <td id=\"T_0441ca80_1e22_11ec_ab55_18473df4720arow10_col4\" class=\"data row10 col4\" >0.134326</td>\n",
       "                        <td id=\"T_0441ca80_1e22_11ec_ab55_18473df4720arow10_col5\" class=\"data row10 col5\" >0.335361</td>\n",
       "                        <td id=\"T_0441ca80_1e22_11ec_ab55_18473df4720arow10_col6\" class=\"data row10 col6\" >0.332559</td>\n",
       "                        <td id=\"T_0441ca80_1e22_11ec_ab55_18473df4720arow10_col7\" class=\"data row10 col7\" >-0.273933</td>\n",
       "                        <td id=\"T_0441ca80_1e22_11ec_ab55_18473df4720arow10_col8\" class=\"data row10 col8\" >0.082321</td>\n",
       "                        <td id=\"T_0441ca80_1e22_11ec_ab55_18473df4720arow10_col9\" class=\"data row10 col9\" >0.506618</td>\n",
       "                        <td id=\"T_0441ca80_1e22_11ec_ab55_18473df4720arow10_col10\" class=\"data row10 col10\" >1.000000</td>\n",
       "                        <td id=\"T_0441ca80_1e22_11ec_ab55_18473df4720arow10_col11\" class=\"data row10 col11\" >0.972151</td>\n",
       "            </tr>\n",
       "            <tr>\n",
       "                        <th id=\"T_0441ca80_1e22_11ec_ab55_18473df4720alevel0_row11\" class=\"row_heading level0 row11\" >count</th>\n",
       "                        <td id=\"T_0441ca80_1e22_11ec_ab55_18473df4720arow11_col0\" class=\"data row11 col0\" >0.120638</td>\n",
       "                        <td id=\"T_0441ca80_1e22_11ec_ab55_18473df4720arow11_col1\" class=\"data row11 col1\" >-0.004312</td>\n",
       "                        <td id=\"T_0441ca80_1e22_11ec_ab55_18473df4720arow11_col2\" class=\"data row11 col2\" >0.394071</td>\n",
       "                        <td id=\"T_0441ca80_1e22_11ec_ab55_18473df4720arow11_col3\" class=\"data row11 col3\" >-0.030927</td>\n",
       "                        <td id=\"T_0441ca80_1e22_11ec_ab55_18473df4720arow11_col4\" class=\"data row11 col4\" >0.030284</td>\n",
       "                        <td id=\"T_0441ca80_1e22_11ec_ab55_18473df4720arow11_col5\" class=\"data row11 col5\" >0.404772</td>\n",
       "                        <td id=\"T_0441ca80_1e22_11ec_ab55_18473df4720arow11_col6\" class=\"data row11 col6\" >0.400929</td>\n",
       "                        <td id=\"T_0441ca80_1e22_11ec_ab55_18473df4720arow11_col7\" class=\"data row11 col7\" >-0.322911</td>\n",
       "                        <td id=\"T_0441ca80_1e22_11ec_ab55_18473df4720arow11_col8\" class=\"data row11 col8\" >0.093234</td>\n",
       "                        <td id=\"T_0441ca80_1e22_11ec_ab55_18473df4720arow11_col9\" class=\"data row11 col9\" >0.694564</td>\n",
       "                        <td id=\"T_0441ca80_1e22_11ec_ab55_18473df4720arow11_col10\" class=\"data row11 col10\" >0.972151</td>\n",
       "                        <td id=\"T_0441ca80_1e22_11ec_ab55_18473df4720arow11_col11\" class=\"data row11 col11\" >1.000000</td>\n",
       "            </tr>\n",
       "    </tbody></table>"
      ],
      "text/plain": [
       "<pandas.io.formats.style.Styler at 0x1558ba60910>"
      ]
     },
     "execution_count": 30,
     "metadata": {},
     "output_type": "execute_result"
    }
   ],
   "source": [
    "corr=df1[num_var].corr()\n",
    "corr.style.background_gradient(cmap=\"PuBu\")"
   ]
  },
  {
   "cell_type": "markdown",
   "metadata": {},
   "source": [
    "•It is clear from the corr matrix that the independent variables Temp and atemp are highly correlated.  \n",
    "•If both features are included in the model, this will cause the issue of Multicollinearity. Hence we have to drop either temp or atemp ."
   ]
  },
  {
   "cell_type": "code",
   "execution_count": 31,
   "metadata": {},
   "outputs": [],
   "source": [
    "#here dropping \"atemp\"\n",
    "df1.drop(\"atemp\",axis=1,inplace=True)"
   ]
  },
  {
   "cell_type": "code",
   "execution_count": 32,
   "metadata": {},
   "outputs": [],
   "source": [
    "df1=pd.get_dummies(df1,drop_first=True)"
   ]
  },
  {
   "cell_type": "code",
   "execution_count": 33,
   "metadata": {},
   "outputs": [
    {
     "data": {
      "text/html": [
       "<div>\n",
       "<style scoped>\n",
       "    .dataframe tbody tr th:only-of-type {\n",
       "        vertical-align: middle;\n",
       "    }\n",
       "\n",
       "    .dataframe tbody tr th {\n",
       "        vertical-align: top;\n",
       "    }\n",
       "\n",
       "    .dataframe thead th {\n",
       "        text-align: right;\n",
       "    }\n",
       "</style>\n",
       "<table border=\"1\" class=\"dataframe\">\n",
       "  <thead>\n",
       "    <tr style=\"text-align: right;\">\n",
       "      <th></th>\n",
       "      <th>year</th>\n",
       "      <th>month</th>\n",
       "      <th>day</th>\n",
       "      <th>hour</th>\n",
       "      <th>holiday</th>\n",
       "      <th>workingday</th>\n",
       "      <th>temp</th>\n",
       "      <th>humidity</th>\n",
       "      <th>windspeed</th>\n",
       "      <th>casual</th>\n",
       "      <th>registered</th>\n",
       "      <th>count</th>\n",
       "      <th>season_spring</th>\n",
       "      <th>season_summer</th>\n",
       "      <th>season_winter</th>\n",
       "      <th>weekday_Monday</th>\n",
       "      <th>weekday_Saturday</th>\n",
       "      <th>weekday_Sunday</th>\n",
       "      <th>weekday_Thursday</th>\n",
       "      <th>weekday_Tuesday</th>\n",
       "      <th>weekday_Wednesday</th>\n",
       "      <th>weather_light/heavy rain/snow</th>\n",
       "      <th>weather_mist/cloudy</th>\n",
       "    </tr>\n",
       "    <tr>\n",
       "      <th>date</th>\n",
       "      <th></th>\n",
       "      <th></th>\n",
       "      <th></th>\n",
       "      <th></th>\n",
       "      <th></th>\n",
       "      <th></th>\n",
       "      <th></th>\n",
       "      <th></th>\n",
       "      <th></th>\n",
       "      <th></th>\n",
       "      <th></th>\n",
       "      <th></th>\n",
       "      <th></th>\n",
       "      <th></th>\n",
       "      <th></th>\n",
       "      <th></th>\n",
       "      <th></th>\n",
       "      <th></th>\n",
       "      <th></th>\n",
       "      <th></th>\n",
       "      <th></th>\n",
       "      <th></th>\n",
       "      <th></th>\n",
       "    </tr>\n",
       "  </thead>\n",
       "  <tbody>\n",
       "    <tr>\n",
       "      <th>2011-01-01</th>\n",
       "      <td>0</td>\n",
       "      <td>1</td>\n",
       "      <td>1</td>\n",
       "      <td>0</td>\n",
       "      <td>0</td>\n",
       "      <td>0</td>\n",
       "      <td>0.24</td>\n",
       "      <td>0.81</td>\n",
       "      <td>0.0</td>\n",
       "      <td>3</td>\n",
       "      <td>13</td>\n",
       "      <td>16</td>\n",
       "      <td>1</td>\n",
       "      <td>0</td>\n",
       "      <td>0</td>\n",
       "      <td>0</td>\n",
       "      <td>1</td>\n",
       "      <td>0</td>\n",
       "      <td>0</td>\n",
       "      <td>0</td>\n",
       "      <td>0</td>\n",
       "      <td>0</td>\n",
       "      <td>0</td>\n",
       "    </tr>\n",
       "    <tr>\n",
       "      <th>2011-01-01</th>\n",
       "      <td>0</td>\n",
       "      <td>1</td>\n",
       "      <td>1</td>\n",
       "      <td>1</td>\n",
       "      <td>0</td>\n",
       "      <td>0</td>\n",
       "      <td>0.22</td>\n",
       "      <td>0.80</td>\n",
       "      <td>0.0</td>\n",
       "      <td>8</td>\n",
       "      <td>32</td>\n",
       "      <td>40</td>\n",
       "      <td>1</td>\n",
       "      <td>0</td>\n",
       "      <td>0</td>\n",
       "      <td>0</td>\n",
       "      <td>1</td>\n",
       "      <td>0</td>\n",
       "      <td>0</td>\n",
       "      <td>0</td>\n",
       "      <td>0</td>\n",
       "      <td>0</td>\n",
       "      <td>0</td>\n",
       "    </tr>\n",
       "    <tr>\n",
       "      <th>2011-01-01</th>\n",
       "      <td>0</td>\n",
       "      <td>1</td>\n",
       "      <td>1</td>\n",
       "      <td>2</td>\n",
       "      <td>0</td>\n",
       "      <td>0</td>\n",
       "      <td>0.22</td>\n",
       "      <td>0.80</td>\n",
       "      <td>0.0</td>\n",
       "      <td>5</td>\n",
       "      <td>27</td>\n",
       "      <td>32</td>\n",
       "      <td>1</td>\n",
       "      <td>0</td>\n",
       "      <td>0</td>\n",
       "      <td>0</td>\n",
       "      <td>1</td>\n",
       "      <td>0</td>\n",
       "      <td>0</td>\n",
       "      <td>0</td>\n",
       "      <td>0</td>\n",
       "      <td>0</td>\n",
       "      <td>0</td>\n",
       "    </tr>\n",
       "    <tr>\n",
       "      <th>2011-01-01</th>\n",
       "      <td>0</td>\n",
       "      <td>1</td>\n",
       "      <td>1</td>\n",
       "      <td>3</td>\n",
       "      <td>0</td>\n",
       "      <td>0</td>\n",
       "      <td>0.24</td>\n",
       "      <td>0.75</td>\n",
       "      <td>0.0</td>\n",
       "      <td>3</td>\n",
       "      <td>10</td>\n",
       "      <td>13</td>\n",
       "      <td>1</td>\n",
       "      <td>0</td>\n",
       "      <td>0</td>\n",
       "      <td>0</td>\n",
       "      <td>1</td>\n",
       "      <td>0</td>\n",
       "      <td>0</td>\n",
       "      <td>0</td>\n",
       "      <td>0</td>\n",
       "      <td>0</td>\n",
       "      <td>0</td>\n",
       "    </tr>\n",
       "    <tr>\n",
       "      <th>2011-01-01</th>\n",
       "      <td>0</td>\n",
       "      <td>1</td>\n",
       "      <td>1</td>\n",
       "      <td>4</td>\n",
       "      <td>0</td>\n",
       "      <td>0</td>\n",
       "      <td>0.24</td>\n",
       "      <td>0.75</td>\n",
       "      <td>0.0</td>\n",
       "      <td>0</td>\n",
       "      <td>1</td>\n",
       "      <td>1</td>\n",
       "      <td>1</td>\n",
       "      <td>0</td>\n",
       "      <td>0</td>\n",
       "      <td>0</td>\n",
       "      <td>1</td>\n",
       "      <td>0</td>\n",
       "      <td>0</td>\n",
       "      <td>0</td>\n",
       "      <td>0</td>\n",
       "      <td>0</td>\n",
       "      <td>0</td>\n",
       "    </tr>\n",
       "  </tbody>\n",
       "</table>\n",
       "</div>"
      ],
      "text/plain": [
       "            year  month  day  hour  holiday  workingday  temp  humidity  \\\n",
       "date                                                                      \n",
       "2011-01-01     0      1    1     0        0           0  0.24      0.81   \n",
       "2011-01-01     0      1    1     1        0           0  0.22      0.80   \n",
       "2011-01-01     0      1    1     2        0           0  0.22      0.80   \n",
       "2011-01-01     0      1    1     3        0           0  0.24      0.75   \n",
       "2011-01-01     0      1    1     4        0           0  0.24      0.75   \n",
       "\n",
       "            windspeed  casual  registered  count  season_spring  \\\n",
       "date                                                              \n",
       "2011-01-01        0.0       3          13     16              1   \n",
       "2011-01-01        0.0       8          32     40              1   \n",
       "2011-01-01        0.0       5          27     32              1   \n",
       "2011-01-01        0.0       3          10     13              1   \n",
       "2011-01-01        0.0       0           1      1              1   \n",
       "\n",
       "            season_summer  season_winter  weekday_Monday  weekday_Saturday  \\\n",
       "date                                                                         \n",
       "2011-01-01              0              0               0                 1   \n",
       "2011-01-01              0              0               0                 1   \n",
       "2011-01-01              0              0               0                 1   \n",
       "2011-01-01              0              0               0                 1   \n",
       "2011-01-01              0              0               0                 1   \n",
       "\n",
       "            weekday_Sunday  weekday_Thursday  weekday_Tuesday  \\\n",
       "date                                                            \n",
       "2011-01-01               0                 0                0   \n",
       "2011-01-01               0                 0                0   \n",
       "2011-01-01               0                 0                0   \n",
       "2011-01-01               0                 0                0   \n",
       "2011-01-01               0                 0                0   \n",
       "\n",
       "            weekday_Wednesday  weather_light/heavy rain/snow  \\\n",
       "date                                                           \n",
       "2011-01-01                  0                              0   \n",
       "2011-01-01                  0                              0   \n",
       "2011-01-01                  0                              0   \n",
       "2011-01-01                  0                              0   \n",
       "2011-01-01                  0                              0   \n",
       "\n",
       "            weather_mist/cloudy  \n",
       "date                             \n",
       "2011-01-01                    0  \n",
       "2011-01-01                    0  \n",
       "2011-01-01                    0  \n",
       "2011-01-01                    0  \n",
       "2011-01-01                    0  "
      ]
     },
     "execution_count": 33,
     "metadata": {},
     "output_type": "execute_result"
    }
   ],
   "source": [
    "df1.head()"
   ]
  },
  {
   "cell_type": "code",
   "execution_count": 34,
   "metadata": {},
   "outputs": [
    {
     "data": {
      "text/plain": [
       "(17379, 23)"
      ]
     },
     "execution_count": 34,
     "metadata": {},
     "output_type": "execute_result"
    }
   ],
   "source": [
    "df1.shape"
   ]
  },
  {
   "cell_type": "markdown",
   "metadata": {},
   "source": [
    "# Train Test Split"
   ]
  },
  {
   "cell_type": "code",
   "execution_count": 35,
   "metadata": {},
   "outputs": [],
   "source": [
    "X = df1.drop([\"casual\",\"registered\",\"count\"], axis=1)\n",
    "y = df1['count']"
   ]
  },
  {
   "cell_type": "code",
   "execution_count": 36,
   "metadata": {},
   "outputs": [
    {
     "name": "stdout",
     "output_type": "stream",
     "text": [
      "Shape of X_train =  (13903, 20)\n",
      "Shape of y_train =  (13903,)\n",
      "Shape of X_test =  (3476, 20)\n",
      "Shape of y_test =  (3476,)\n"
     ]
    }
   ],
   "source": [
    "from sklearn.model_selection import train_test_split\n",
    "X_train, X_test, y_train, y_test = train_test_split(X, y, test_size = 0.2,random_state=18)\n",
    "print('Shape of X_train = ', X_train.shape)\n",
    "print('Shape of y_train = ', y_train.shape)\n",
    "print('Shape of X_test = ', X_test.shape)\n",
    "print('Shape of y_test = ', y_test.shape)"
   ]
  },
  {
   "cell_type": "markdown",
   "metadata": {},
   "source": [
    "# Machine Learning"
   ]
  },
  {
   "cell_type": "markdown",
   "metadata": {},
   "source": [
    "# Random Forest"
   ]
  },
  {
   "cell_type": "code",
   "execution_count": 37,
   "metadata": {},
   "outputs": [
    {
     "name": "stdout",
     "output_type": "stream",
     "text": [
      "Training Accuracy: 0.9923458641542435\n",
      "Testing Accuracy: 0.9436606010139567\n"
     ]
    }
   ],
   "source": [
    "from sklearn.ensemble  import RandomForestRegressor\n",
    "rfr = RandomForestRegressor(n_estimators =350, max_features = 'auto')\n",
    "new=rfr.fit(X_train,y_train)\n",
    "rfr_score=rfr.score(X_test,y_test)\n",
    "print(\"Training Accuracy:\",rfr.score(X_train,y_train))\n",
    "print(\"Testing Accuracy:\",rfr_score)"
   ]
  },
  {
   "cell_type": "code",
   "execution_count": 38,
   "metadata": {},
   "outputs": [],
   "source": [
    "predictions= rfr.predict(X_test)"
   ]
  },
  {
   "cell_type": "code",
   "execution_count": 39,
   "metadata": {},
   "outputs": [
    {
     "name": "stdout",
     "output_type": "stream",
     "text": [
      "MAE: 25.854868485944436\n",
      "MSE: 1818.523597799488\n",
      "RMSE: 42.6441508040609\n"
     ]
    }
   ],
   "source": [
    "from sklearn import metrics\n",
    "print('MAE:', metrics.mean_absolute_error(y_test, predictions))\n",
    "print('MSE:', metrics.mean_squared_error(y_test, predictions))\n",
    "print('RMSE:', np.sqrt(metrics.mean_squared_error(y_test, predictions)))"
   ]
  },
  {
   "cell_type": "code",
   "execution_count": 40,
   "metadata": {},
   "outputs": [
    {
     "data": {
      "text/plain": [
       "0.9436606010139567"
      ]
     },
     "execution_count": 40,
     "metadata": {},
     "output_type": "execute_result"
    }
   ],
   "source": [
    "from sklearn.metrics import r2_score\n",
    "r2_score(y_test, predictions)"
   ]
  },
  {
   "cell_type": "code",
   "execution_count": 41,
   "metadata": {},
   "outputs": [
    {
     "data": {
      "text/plain": [
       "(array([0.93214823, 0.94848279, 0.93597795, 0.942192  , 0.94860596,\n",
       "        0.9495417 , 0.94195504, 0.92795979, 0.9464387 , 0.94536087]),\n",
       " 0.9418663034126282)"
      ]
     },
     "execution_count": 41,
     "metadata": {},
     "output_type": "execute_result"
    }
   ],
   "source": [
    "from sklearn.model_selection import cross_val_score\n",
    "cvs_rfr2 = cross_val_score(RandomForestRegressor(), X_train,y_train, cv = 10)\n",
    "cvs_rfr2, cvs_rfr2.mean()"
   ]
  },
  {
   "cell_type": "code",
   "execution_count": 42,
   "metadata": {},
   "outputs": [
    {
     "data": {
      "text/plain": [
       "(array([0.91375717, 0.8771175 , 0.89270302, 0.89537521, 0.8896901 ,\n",
       "        0.9078537 , 0.85435563, 0.92352875, 0.90102299, 0.86395728]),\n",
       " 0.891936137091071)"
      ]
     },
     "execution_count": 42,
     "metadata": {},
     "output_type": "execute_result"
    }
   ],
   "source": [
    "from sklearn.model_selection import cross_val_score\n",
    "cvs_rfr2 = cross_val_score(RandomForestRegressor(), X_test,y_test, cv = 10)\n",
    "cvs_rfr2, cvs_rfr2.mean()"
   ]
  },
  {
   "cell_type": "markdown",
   "metadata": {},
   "source": [
    "# Linear Regression "
   ]
  },
  {
   "cell_type": "code",
   "execution_count": 43,
   "metadata": {},
   "outputs": [
    {
     "data": {
      "text/plain": [
       "(0.3965868360893806, 139.55993413957978)"
      ]
     },
     "execution_count": 43,
     "metadata": {},
     "output_type": "execute_result"
    }
   ],
   "source": [
    "from sklearn.linear_model import LinearRegression\n",
    "from sklearn.metrics import mean_squared_error\n",
    "lr = LinearRegression()\n",
    " \n",
    "def rmse(y_test, y_pred):\n",
    "    return np.sqrt(mean_squared_error(y_test, y_pred))\n",
    " \n",
    "lr.fit(X_train, y_train)\n",
    "lr_score = lr.score(X_test, y_test) \n",
    "lr_rmse = rmse(y_test, lr.predict(X_test))\n",
    "lr_score, lr_rmse"
   ]
  },
  {
   "cell_type": "markdown",
   "metadata": {},
   "source": [
    "# Decision Tree"
   ]
  },
  {
   "cell_type": "code",
   "execution_count": 44,
   "metadata": {},
   "outputs": [
    {
     "name": "stdout",
     "output_type": "stream",
     "text": [
      "Training Accuracy: 1.0\n",
      "Testing Accuracy: 0.8914309328865647\n"
     ]
    }
   ],
   "source": [
    "from sklearn.tree import DecisionTreeRegressor\n",
    "dt = DecisionTreeRegressor()\n",
    "new=dt.fit(X_train,y_train)\n",
    "dt_score=dt.score(X_test,y_test)\n",
    "print(\"Training Accuracy:\",dt.score(X_train,y_train))\n",
    "print(\"Testing Accuracy:\",dt_score)"
   ]
  },
  {
   "cell_type": "code",
   "execution_count": 45,
   "metadata": {},
   "outputs": [],
   "source": [
    "dt_pred= dt.predict(X_test)"
   ]
  },
  {
   "cell_type": "code",
   "execution_count": 46,
   "metadata": {},
   "outputs": [
    {
     "data": {
      "text/plain": [
       "0.8914309328865647"
      ]
     },
     "execution_count": 46,
     "metadata": {},
     "output_type": "execute_result"
    }
   ],
   "source": [
    "r2_score(y_test, dt_pred)"
   ]
  },
  {
   "cell_type": "code",
   "execution_count": 47,
   "metadata": {},
   "outputs": [
    {
     "name": "stdout",
     "output_type": "stream",
     "text": [
      "MAE: 34.85817031070196\n",
      "MSE: 3504.393268124281\n",
      "RMSE: 59.19791607923611\n"
     ]
    }
   ],
   "source": [
    "from sklearn import metrics\n",
    "print('MAE:', metrics.mean_absolute_error(y_test, dt_pred))\n",
    "print('MSE:', metrics.mean_squared_error(y_test, dt_pred))\n",
    "print('RMSE:', np.sqrt(metrics.mean_squared_error(y_test, dt_pred)))"
   ]
  },
  {
   "cell_type": "code",
   "execution_count": 48,
   "metadata": {},
   "outputs": [
    {
     "data": {
      "text/plain": [
       "(array([0.87776936, 0.90577348, 0.87609639, 0.86749126, 0.90164178,\n",
       "        0.89172784, 0.89837547, 0.86326797, 0.87030792, 0.89159296]),\n",
       " 0.8844044434784394)"
      ]
     },
     "execution_count": 48,
     "metadata": {},
     "output_type": "execute_result"
    }
   ],
   "source": [
    "from sklearn.model_selection import cross_val_score\n",
    "cvs_rfr2 = cross_val_score(DecisionTreeRegressor(), X_train,y_train, cv = 10)\n",
    "cvs_rfr2, cvs_rfr2.mean()"
   ]
  },
  {
   "cell_type": "code",
   "execution_count": 49,
   "metadata": {},
   "outputs": [
    {
     "data": {
      "text/plain": [
       "(array([0.84909965, 0.77973622, 0.78463077, 0.81723336, 0.80021535,\n",
       "        0.82340753, 0.71540692, 0.83237388, 0.81148089, 0.75077123]),\n",
       " 0.7964355811802447)"
      ]
     },
     "execution_count": 49,
     "metadata": {},
     "output_type": "execute_result"
    }
   ],
   "source": [
    "from sklearn.model_selection import cross_val_score\n",
    "cvs_rfr2 = cross_val_score(DecisionTreeRegressor(), X_test,y_test, cv = 10)\n",
    "cvs_rfr2, cvs_rfr2.mean()"
   ]
  },
  {
   "cell_type": "markdown",
   "metadata": {},
   "source": [
    "# KNN"
   ]
  },
  {
   "cell_type": "code",
   "execution_count": 50,
   "metadata": {},
   "outputs": [
    {
     "name": "stdout",
     "output_type": "stream",
     "text": [
      "Training Accuracy: 0.9094492318375055\n",
      "Testing Accuracy: 0.8472652342736343\n"
     ]
    }
   ],
   "source": [
    "from sklearn.neighbors import KNeighborsRegressor\n",
    "knn = KNeighborsRegressor()\n",
    "new=knn.fit(X_train,y_train)\n",
    "knn_score=knn.score(X_test,y_test)\n",
    "print(\"Training Accuracy:\",knn.score(X_train,y_train))\n",
    "print(\"Testing Accuracy:\",knn_score)"
   ]
  },
  {
   "cell_type": "markdown",
   "metadata": {},
   "source": [
    "# SVM"
   ]
  },
  {
   "cell_type": "code",
   "execution_count": 51,
   "metadata": {},
   "outputs": [
    {
     "name": "stdout",
     "output_type": "stream",
     "text": [
      "Training Accuracy: 0.249776235978299\n",
      "Testing Accuracy: 0.2594818486257747\n"
     ]
    }
   ],
   "source": [
    "from sklearn.svm import SVR\n",
    "svr = SVR()\n",
    "svr.fit(X_train,y_train)\n",
    "svr_score=svr.score(X_test,y_test) \n",
    "print(\"Training Accuracy:\",svr.score(X_train,y_train))\n",
    "print(\"Testing Accuracy:\",svr_score)"
   ]
  },
  {
   "cell_type": "markdown",
   "metadata": {},
   "source": [
    "# XGB"
   ]
  },
  {
   "cell_type": "code",
   "execution_count": 52,
   "metadata": {},
   "outputs": [
    {
     "name": "stdout",
     "output_type": "stream",
     "text": [
      "Training Accuracy: 0.9779724146532693\n",
      "Testing Accuracy: 0.9478959596708884\n"
     ]
    }
   ],
   "source": [
    "import xgboost\n",
    "xgb_reg = xgboost.XGBRegressor()\n",
    "xgb_reg.fit(X_train,y_train)\n",
    "xgb_reg_score=xgb_reg.score(X_test,y_test) \n",
    "print(\"Training Accuracy:\",xgb_reg.score(X_train,y_train))\n",
    "print(\"Testing Accuracy:\",xgb_reg_score)"
   ]
  },
  {
   "cell_type": "code",
   "execution_count": 53,
   "metadata": {},
   "outputs": [],
   "source": [
    "xg_pred= xgb_reg.predict(X_test)"
   ]
  },
  {
   "cell_type": "code",
   "execution_count": 54,
   "metadata": {},
   "outputs": [
    {
     "data": {
      "text/plain": [
       "0.9478959596708884"
      ]
     },
     "execution_count": 54,
     "metadata": {},
     "output_type": "execute_result"
    }
   ],
   "source": [
    "r2_score(y_test, xg_pred)"
   ]
  },
  {
   "cell_type": "code",
   "execution_count": 55,
   "metadata": {},
   "outputs": [
    {
     "name": "stdout",
     "output_type": "stream",
     "text": [
      "MAE: 25.434936151487197\n",
      "MSE: 1681.814655187541\n",
      "RMSE: 41.00993361598554\n"
     ]
    }
   ],
   "source": [
    "from sklearn import metrics\n",
    "print('MAE:', metrics.mean_absolute_error(y_test, xg_pred))\n",
    "print('MSE:', metrics.mean_squared_error(y_test,xg_pred))\n",
    "print('RMSE:', np.sqrt(metrics.mean_squared_error(y_test, xg_pred)))"
   ]
  },
  {
   "cell_type": "code",
   "execution_count": 56,
   "metadata": {},
   "outputs": [
    {
     "data": {
      "text/plain": [
       "(array([0.94462378, 0.95425533, 0.94330097, 0.95277117, 0.95227694,\n",
       "        0.95255109, 0.94769798, 0.94259609, 0.95134036, 0.95311343]),\n",
       " 0.9494527130843082)"
      ]
     },
     "execution_count": 56,
     "metadata": {},
     "output_type": "execute_result"
    }
   ],
   "source": [
    "from sklearn.model_selection import cross_val_score\n",
    "cvs_rfr2 = cross_val_score(xgboost.XGBRegressor(), X_train,y_train, cv = 10)\n",
    "cvs_rfr2, cvs_rfr2.mean()"
   ]
  },
  {
   "cell_type": "code",
   "execution_count": 57,
   "metadata": {},
   "outputs": [
    {
     "data": {
      "text/plain": [
       "(array([0.92492835, 0.91952758, 0.92015318, 0.93138735, 0.93286346,\n",
       "        0.93247848, 0.86374139, 0.92506431, 0.93381951, 0.90144132]),\n",
       " 0.9185404936640081)"
      ]
     },
     "execution_count": 57,
     "metadata": {},
     "output_type": "execute_result"
    }
   ],
   "source": [
    "from sklearn.model_selection import cross_val_score\n",
    "cvs_rfr2 = cross_val_score(xgboost.XGBRegressor(), X_test,y_test, cv = 10)\n",
    "cvs_rfr2, cvs_rfr2.mean()"
   ]
  },
  {
   "cell_type": "code",
   "execution_count": 58,
   "metadata": {},
   "outputs": [
    {
     "name": "stdout",
     "output_type": "stream",
     "text": [
      "               Model     Score\n",
      "0      Random Forest  0.943661\n",
      "1  Linear regression  0.396587\n",
      "2      Decision Tree  0.891431\n",
      "3                KNN  0.847265\n",
      "4                SVM  0.259482\n",
      "5            XGBoost  0.947896\n"
     ]
    }
   ],
   "source": [
    "#Checking which algorithm is giving highest accuracy\n",
    "print(pd.DataFrame([{'Model': 'Random Forest','Score':rfr_score},\n",
    "              {'Model': 'Linear regression','Score':lr_score},\n",
    "              {'Model': 'Decision Tree','Score':dt_score},\n",
    "              {'Model': 'KNN','Score':knn_score},\n",
    "              {'Model': 'SVM','Score':svr_score},\n",
    "              {'Model': 'XGBoost','Score':xgb_reg_score}],\n",
    "             columns=['Model','Score']))"
   ]
  },
  {
   "cell_type": "markdown",
   "metadata": {},
   "source": [
    "•Random Forest and XG Boost are giving the highest accuracy.  \n",
    "•Random Forest: 94.3%  \n",
    "•XG Boost: 94.7%"
   ]
  }
 ],
 "metadata": {
  "kernelspec": {
   "display_name": "Python 3",
   "language": "python",
   "name": "python3"
  },
  "language_info": {
   "codemirror_mode": {
    "name": "ipython",
    "version": 3
   },
   "file_extension": ".py",
   "mimetype": "text/x-python",
   "name": "python",
   "nbconvert_exporter": "python",
   "pygments_lexer": "ipython3",
   "version": "3.8.5"
  }
 },
 "nbformat": 4,
 "nbformat_minor": 4
}
